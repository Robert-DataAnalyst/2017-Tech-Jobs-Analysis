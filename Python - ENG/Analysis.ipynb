{
 "cells": [
  {
   "attachments": {},
   "cell_type": "markdown",
   "metadata": {},
   "source": [
    "##### To run the below code, please use pip:\n",
    "###### pipenv install - to install all the needed libraries and dependencies\n",
    "###### pipenv shell - to choose this virtual environment\n",
    "###### pipenv --rm - to remove the virtual environment/kernel once done"
   ]
  },
  {
   "cell_type": "markdown",
   "metadata": {},
   "source": [
    "##### Importing all the necessary libraries"
   ]
  },
  {
   "cell_type": "code",
   "execution_count": 1,
   "metadata": {},
   "outputs": [],
   "source": [
    "import pandas as pd\n",
    "import numpy as np\n",
    "import matplotlib.pyplot as plt\n",
    "%matplotlib inline"
   ]
  },
  {
   "attachments": {},
   "cell_type": "markdown",
   "metadata": {},
   "source": [
    "##### Opening the Excel file and making a copy to keep the original intact in case of any issues"
   ]
  },
  {
   "cell_type": "code",
   "execution_count": 2,
   "metadata": {},
   "outputs": [],
   "source": [
    "main_df = pd.read_csv(\"./Source.csv\")\n",
    "copy_df = main_df.copy()"
   ]
  },
  {
   "attachments": {},
   "cell_type": "markdown",
   "metadata": {},
   "source": [
    "##### Checking the details of the df"
   ]
  },
  {
   "cell_type": "code",
   "execution_count": 3,
   "metadata": {},
   "outputs": [
    {
     "data": {
      "text/html": [
       "<div>\n",
       "<style scoped>\n",
       "    .dataframe tbody tr th:only-of-type {\n",
       "        vertical-align: middle;\n",
       "    }\n",
       "\n",
       "    .dataframe tbody tr th {\n",
       "        vertical-align: top;\n",
       "    }\n",
       "\n",
       "    .dataframe thead th {\n",
       "        text-align: right;\n",
       "    }\n",
       "</style>\n",
       "<table border=\"1\" class=\"dataframe\">\n",
       "  <thead>\n",
       "    <tr style=\"text-align: right;\">\n",
       "      <th></th>\n",
       "      <th>Unnamed: 0</th>\n",
       "      <th>Rating</th>\n",
       "      <th>Founded</th>\n",
       "      <th>hourly</th>\n",
       "      <th>employer_provided</th>\n",
       "      <th>min_salary</th>\n",
       "      <th>max_salary</th>\n",
       "      <th>avg_salary</th>\n",
       "      <th>same_state</th>\n",
       "      <th>age</th>\n",
       "      <th>python_yn</th>\n",
       "      <th>R_yn</th>\n",
       "      <th>spark</th>\n",
       "      <th>aws</th>\n",
       "      <th>excel</th>\n",
       "      <th>desc_len</th>\n",
       "      <th>num_comp</th>\n",
       "    </tr>\n",
       "  </thead>\n",
       "  <tbody>\n",
       "    <tr>\n",
       "      <th>count</th>\n",
       "      <td>742.000000</td>\n",
       "      <td>742.000000</td>\n",
       "      <td>742.000000</td>\n",
       "      <td>742.000000</td>\n",
       "      <td>742.000000</td>\n",
       "      <td>742.000000</td>\n",
       "      <td>742.000000</td>\n",
       "      <td>742.000000</td>\n",
       "      <td>742.000000</td>\n",
       "      <td>742.000000</td>\n",
       "      <td>742.000000</td>\n",
       "      <td>742.000000</td>\n",
       "      <td>742.000000</td>\n",
       "      <td>742.000000</td>\n",
       "      <td>742.000000</td>\n",
       "      <td>742.000000</td>\n",
       "      <td>742.000000</td>\n",
       "    </tr>\n",
       "    <tr>\n",
       "      <th>mean</th>\n",
       "      <td>370.500000</td>\n",
       "      <td>3.618868</td>\n",
       "      <td>1837.154987</td>\n",
       "      <td>0.032345</td>\n",
       "      <td>0.022911</td>\n",
       "      <td>74.719677</td>\n",
       "      <td>128.149596</td>\n",
       "      <td>100.626011</td>\n",
       "      <td>0.557951</td>\n",
       "      <td>46.591644</td>\n",
       "      <td>0.528302</td>\n",
       "      <td>0.002695</td>\n",
       "      <td>0.225067</td>\n",
       "      <td>0.237197</td>\n",
       "      <td>0.522911</td>\n",
       "      <td>3869.545822</td>\n",
       "      <td>1.053908</td>\n",
       "    </tr>\n",
       "    <tr>\n",
       "      <th>std</th>\n",
       "      <td>214.341239</td>\n",
       "      <td>0.801210</td>\n",
       "      <td>497.183763</td>\n",
       "      <td>0.177034</td>\n",
       "      <td>0.149721</td>\n",
       "      <td>30.980593</td>\n",
       "      <td>45.220324</td>\n",
       "      <td>38.855948</td>\n",
       "      <td>0.496965</td>\n",
       "      <td>53.778815</td>\n",
       "      <td>0.499535</td>\n",
       "      <td>0.051882</td>\n",
       "      <td>0.417908</td>\n",
       "      <td>0.425651</td>\n",
       "      <td>0.499812</td>\n",
       "      <td>1521.495868</td>\n",
       "      <td>1.384239</td>\n",
       "    </tr>\n",
       "    <tr>\n",
       "      <th>min</th>\n",
       "      <td>0.000000</td>\n",
       "      <td>-1.000000</td>\n",
       "      <td>-1.000000</td>\n",
       "      <td>0.000000</td>\n",
       "      <td>0.000000</td>\n",
       "      <td>15.000000</td>\n",
       "      <td>16.000000</td>\n",
       "      <td>13.500000</td>\n",
       "      <td>0.000000</td>\n",
       "      <td>-1.000000</td>\n",
       "      <td>0.000000</td>\n",
       "      <td>0.000000</td>\n",
       "      <td>0.000000</td>\n",
       "      <td>0.000000</td>\n",
       "      <td>0.000000</td>\n",
       "      <td>407.000000</td>\n",
       "      <td>0.000000</td>\n",
       "    </tr>\n",
       "    <tr>\n",
       "      <th>25%</th>\n",
       "      <td>185.250000</td>\n",
       "      <td>3.300000</td>\n",
       "      <td>1939.000000</td>\n",
       "      <td>0.000000</td>\n",
       "      <td>0.000000</td>\n",
       "      <td>52.000000</td>\n",
       "      <td>96.000000</td>\n",
       "      <td>73.500000</td>\n",
       "      <td>0.000000</td>\n",
       "      <td>11.000000</td>\n",
       "      <td>0.000000</td>\n",
       "      <td>0.000000</td>\n",
       "      <td>0.000000</td>\n",
       "      <td>0.000000</td>\n",
       "      <td>0.000000</td>\n",
       "      <td>2801.000000</td>\n",
       "      <td>0.000000</td>\n",
       "    </tr>\n",
       "    <tr>\n",
       "      <th>50%</th>\n",
       "      <td>370.500000</td>\n",
       "      <td>3.700000</td>\n",
       "      <td>1988.000000</td>\n",
       "      <td>0.000000</td>\n",
       "      <td>0.000000</td>\n",
       "      <td>69.500000</td>\n",
       "      <td>124.000000</td>\n",
       "      <td>97.500000</td>\n",
       "      <td>1.000000</td>\n",
       "      <td>24.000000</td>\n",
       "      <td>1.000000</td>\n",
       "      <td>0.000000</td>\n",
       "      <td>0.000000</td>\n",
       "      <td>0.000000</td>\n",
       "      <td>1.000000</td>\n",
       "      <td>3731.000000</td>\n",
       "      <td>0.000000</td>\n",
       "    </tr>\n",
       "    <tr>\n",
       "      <th>75%</th>\n",
       "      <td>555.750000</td>\n",
       "      <td>4.000000</td>\n",
       "      <td>2007.000000</td>\n",
       "      <td>0.000000</td>\n",
       "      <td>0.000000</td>\n",
       "      <td>91.000000</td>\n",
       "      <td>155.000000</td>\n",
       "      <td>122.500000</td>\n",
       "      <td>1.000000</td>\n",
       "      <td>59.000000</td>\n",
       "      <td>1.000000</td>\n",
       "      <td>0.000000</td>\n",
       "      <td>0.000000</td>\n",
       "      <td>0.000000</td>\n",
       "      <td>1.000000</td>\n",
       "      <td>4740.000000</td>\n",
       "      <td>3.000000</td>\n",
       "    </tr>\n",
       "    <tr>\n",
       "      <th>max</th>\n",
       "      <td>741.000000</td>\n",
       "      <td>5.000000</td>\n",
       "      <td>2019.000000</td>\n",
       "      <td>1.000000</td>\n",
       "      <td>1.000000</td>\n",
       "      <td>202.000000</td>\n",
       "      <td>306.000000</td>\n",
       "      <td>254.000000</td>\n",
       "      <td>1.000000</td>\n",
       "      <td>276.000000</td>\n",
       "      <td>1.000000</td>\n",
       "      <td>1.000000</td>\n",
       "      <td>1.000000</td>\n",
       "      <td>1.000000</td>\n",
       "      <td>1.000000</td>\n",
       "      <td>10051.000000</td>\n",
       "      <td>4.000000</td>\n",
       "    </tr>\n",
       "  </tbody>\n",
       "</table>\n",
       "</div>"
      ],
      "text/plain": [
       "       Unnamed: 0      Rating      Founded      hourly  employer_provided  \\\n",
       "count  742.000000  742.000000   742.000000  742.000000         742.000000   \n",
       "mean   370.500000    3.618868  1837.154987    0.032345           0.022911   \n",
       "std    214.341239    0.801210   497.183763    0.177034           0.149721   \n",
       "min      0.000000   -1.000000    -1.000000    0.000000           0.000000   \n",
       "25%    185.250000    3.300000  1939.000000    0.000000           0.000000   \n",
       "50%    370.500000    3.700000  1988.000000    0.000000           0.000000   \n",
       "75%    555.750000    4.000000  2007.000000    0.000000           0.000000   \n",
       "max    741.000000    5.000000  2019.000000    1.000000           1.000000   \n",
       "\n",
       "       min_salary  max_salary  avg_salary  same_state         age   python_yn  \\\n",
       "count  742.000000  742.000000  742.000000  742.000000  742.000000  742.000000   \n",
       "mean    74.719677  128.149596  100.626011    0.557951   46.591644    0.528302   \n",
       "std     30.980593   45.220324   38.855948    0.496965   53.778815    0.499535   \n",
       "min     15.000000   16.000000   13.500000    0.000000   -1.000000    0.000000   \n",
       "25%     52.000000   96.000000   73.500000    0.000000   11.000000    0.000000   \n",
       "50%     69.500000  124.000000   97.500000    1.000000   24.000000    1.000000   \n",
       "75%     91.000000  155.000000  122.500000    1.000000   59.000000    1.000000   \n",
       "max    202.000000  306.000000  254.000000    1.000000  276.000000    1.000000   \n",
       "\n",
       "             R_yn       spark         aws       excel      desc_len  \\\n",
       "count  742.000000  742.000000  742.000000  742.000000    742.000000   \n",
       "mean     0.002695    0.225067    0.237197    0.522911   3869.545822   \n",
       "std      0.051882    0.417908    0.425651    0.499812   1521.495868   \n",
       "min      0.000000    0.000000    0.000000    0.000000    407.000000   \n",
       "25%      0.000000    0.000000    0.000000    0.000000   2801.000000   \n",
       "50%      0.000000    0.000000    0.000000    1.000000   3731.000000   \n",
       "75%      0.000000    0.000000    0.000000    1.000000   4740.000000   \n",
       "max      1.000000    1.000000    1.000000    1.000000  10051.000000   \n",
       "\n",
       "         num_comp  \n",
       "count  742.000000  \n",
       "mean     1.053908  \n",
       "std      1.384239  \n",
       "min      0.000000  \n",
       "25%      0.000000  \n",
       "50%      0.000000  \n",
       "75%      3.000000  \n",
       "max      4.000000  "
      ]
     },
     "execution_count": 3,
     "metadata": {},
     "output_type": "execute_result"
    }
   ],
   "source": [
    "copy_df.describe()"
   ]
  },
  {
   "cell_type": "code",
   "execution_count": 4,
   "metadata": {},
   "outputs": [
    {
     "name": "stdout",
     "output_type": "stream",
     "text": [
      "<class 'pandas.core.frame.DataFrame'>\n",
      "RangeIndex: 742 entries, 0 to 741\n",
      "Data columns (total 33 columns):\n",
      " #   Column             Non-Null Count  Dtype  \n",
      "---  ------             --------------  -----  \n",
      " 0   Unnamed: 0         742 non-null    int64  \n",
      " 1   Job Title          742 non-null    object \n",
      " 2   Salary Estimate    742 non-null    object \n",
      " 3   Job Description    742 non-null    object \n",
      " 4   Rating             742 non-null    float64\n",
      " 5   Company Name       742 non-null    object \n",
      " 6   Location           742 non-null    object \n",
      " 7   Headquarters       742 non-null    object \n",
      " 8   Size               742 non-null    object \n",
      " 9   Founded            742 non-null    int64  \n",
      " 10  Type of ownership  742 non-null    object \n",
      " 11  Industry           742 non-null    object \n",
      " 12  Sector             742 non-null    object \n",
      " 13  Revenue            742 non-null    object \n",
      " 14  Competitors        742 non-null    object \n",
      " 15  hourly             742 non-null    int64  \n",
      " 16  employer_provided  742 non-null    int64  \n",
      " 17  min_salary         742 non-null    int64  \n",
      " 18  max_salary         742 non-null    int64  \n",
      " 19  avg_salary         742 non-null    float64\n",
      " 20  company_txt        742 non-null    object \n",
      " 21  job_state          742 non-null    object \n",
      " 22  same_state         742 non-null    int64  \n",
      " 23  age                742 non-null    int64  \n",
      " 24  python_yn          742 non-null    int64  \n",
      " 25  R_yn               742 non-null    int64  \n",
      " 26  spark              742 non-null    int64  \n",
      " 27  aws                742 non-null    int64  \n",
      " 28  excel              742 non-null    int64  \n",
      " 29  job_simp           742 non-null    object \n",
      " 30  seniority          742 non-null    object \n",
      " 31  desc_len           742 non-null    int64  \n",
      " 32  num_comp           742 non-null    int64  \n",
      "dtypes: float64(2), int64(15), object(16)\n",
      "memory usage: 191.4+ KB\n"
     ]
    }
   ],
   "source": [
    "copy_df.info()"
   ]
  },
  {
   "cell_type": "code",
   "execution_count": 5,
   "metadata": {},
   "outputs": [
    {
     "data": {
      "text/plain": [
       "Index(['Unnamed: 0', 'Job Title', 'Salary Estimate', 'Job Description',\n",
       "       'Rating', 'Company Name', 'Location', 'Headquarters', 'Size', 'Founded',\n",
       "       'Type of ownership', 'Industry', 'Sector', 'Revenue', 'Competitors',\n",
       "       'hourly', 'employer_provided', 'min_salary', 'max_salary', 'avg_salary',\n",
       "       'company_txt', 'job_state', 'same_state', 'age', 'python_yn', 'R_yn',\n",
       "       'spark', 'aws', 'excel', 'job_simp', 'seniority', 'desc_len',\n",
       "       'num_comp'],\n",
       "      dtype='object')"
      ]
     },
     "execution_count": 5,
     "metadata": {},
     "output_type": "execute_result"
    }
   ],
   "source": [
    "copy_df.columns"
   ]
  },
  {
   "attachments": {},
   "cell_type": "markdown",
   "metadata": {},
   "source": [
    "#### Cleaning data"
   ]
  },
  {
   "attachments": {},
   "cell_type": "markdown",
   "metadata": {},
   "source": [
    "###### Base cleaning"
   ]
  },
  {
   "cell_type": "code",
   "execution_count": 6,
   "metadata": {},
   "outputs": [
    {
     "data": {
      "text/plain": [
       "Index(['Job Title', 'Salary Estimate', 'Rating', 'Company Name', 'Location',\n",
       "       'Headquarters', 'Size', 'Founded', 'Industry', 'Sector', 'Revenue',\n",
       "       'hourly', 'min_salary', 'max_salary', 'avg_salary', 'job_state'],\n",
       "      dtype='object')"
      ]
     },
     "execution_count": 6,
     "metadata": {},
     "output_type": "execute_result"
    }
   ],
   "source": [
    "##First, I'm deleting the unnecessary columns\n",
    "\n",
    "copy_df.drop([\"Unnamed: 0\", \"Job Description\", \"Type of ownership\", \"Competitors\", \n",
    "\"employer_provided\", \"company_txt\", \"same_state\", \"age\", \"python_yn\", \"R_yn\", \n",
    "\"spark\", \"aws\", \"excel\", \"job_simp\", \"seniority\", \"desc_len\", \"num_comp\"], axis=1, inplace=True)\n",
    "\n",
    "copy_df.columns"
   ]
  },
  {
   "cell_type": "code",
   "execution_count": 7,
   "metadata": {},
   "outputs": [
    {
     "data": {
      "text/html": [
       "<div>\n",
       "<style scoped>\n",
       "    .dataframe tbody tr th:only-of-type {\n",
       "        vertical-align: middle;\n",
       "    }\n",
       "\n",
       "    .dataframe tbody tr th {\n",
       "        vertical-align: top;\n",
       "    }\n",
       "\n",
       "    .dataframe thead th {\n",
       "        text-align: right;\n",
       "    }\n",
       "</style>\n",
       "<table border=\"1\" class=\"dataframe\">\n",
       "  <thead>\n",
       "    <tr style=\"text-align: right;\">\n",
       "      <th></th>\n",
       "      <th>Job Title</th>\n",
       "      <th>Salary Estimate</th>\n",
       "      <th>Rating</th>\n",
       "      <th>Company Name</th>\n",
       "      <th>Location</th>\n",
       "      <th>Headquarters</th>\n",
       "      <th>Size</th>\n",
       "      <th>Founded</th>\n",
       "      <th>Industry</th>\n",
       "      <th>Sector</th>\n",
       "      <th>Revenue</th>\n",
       "      <th>hourly</th>\n",
       "      <th>min_salary</th>\n",
       "      <th>max_salary</th>\n",
       "      <th>avg_salary</th>\n",
       "      <th>job_state</th>\n",
       "    </tr>\n",
       "  </thead>\n",
       "  <tbody>\n",
       "  </tbody>\n",
       "</table>\n",
       "</div>"
      ],
      "text/plain": [
       "Empty DataFrame\n",
       "Columns: [Job Title, Salary Estimate, Rating, Company Name, Location, Headquarters, Size, Founded, Industry, Sector, Revenue, hourly, min_salary, max_salary, avg_salary, job_state]\n",
       "Index: []"
      ]
     },
     "execution_count": 7,
     "metadata": {},
     "output_type": "execute_result"
    }
   ],
   "source": [
    "##Checking if there are any na values in the columns\n",
    "\n",
    "copy_df[copy_df.isna().any(axis=1)]"
   ]
  },
  {
   "cell_type": "code",
   "execution_count": 8,
   "metadata": {},
   "outputs": [],
   "source": [
    "##Next, I am making sure to clear all the whitespaces for all string values to avoid any errors\n",
    "\n",
    "copy_df = copy_df.applymap(lambda x: x.strip() if type(x) == str else x)"
   ]
  },
  {
   "cell_type": "code",
   "execution_count": 9,
   "metadata": {},
   "outputs": [
    {
     "data": {
      "text/html": [
       "<div>\n",
       "<style scoped>\n",
       "    .dataframe tbody tr th:only-of-type {\n",
       "        vertical-align: middle;\n",
       "    }\n",
       "\n",
       "    .dataframe tbody tr th {\n",
       "        vertical-align: top;\n",
       "    }\n",
       "\n",
       "    .dataframe thead th {\n",
       "        text-align: right;\n",
       "    }\n",
       "</style>\n",
       "<table border=\"1\" class=\"dataframe\">\n",
       "  <thead>\n",
       "    <tr style=\"text-align: right;\">\n",
       "      <th></th>\n",
       "      <th>Job Title</th>\n",
       "      <th>Salary Estimate</th>\n",
       "      <th>Rating</th>\n",
       "      <th>Company Name</th>\n",
       "      <th>Location</th>\n",
       "      <th>Headquarters</th>\n",
       "      <th>Size</th>\n",
       "      <th>Founded</th>\n",
       "      <th>Industry</th>\n",
       "      <th>Sector</th>\n",
       "      <th>Revenue</th>\n",
       "      <th>hourly</th>\n",
       "      <th>min_salary</th>\n",
       "      <th>max_salary</th>\n",
       "      <th>avg_salary</th>\n",
       "      <th>job_state</th>\n",
       "    </tr>\n",
       "  </thead>\n",
       "  <tbody>\n",
       "    <tr>\n",
       "      <th>48</th>\n",
       "      <td>Spectral Scientist/Engineer</td>\n",
       "      <td>$56K-$117K (Glassdoor est.)</td>\n",
       "      <td>4.7</td>\n",
       "      <td>Centauri\\n4.7</td>\n",
       "      <td>Beavercreek, OH</td>\n",
       "      <td>Chantilly, VA</td>\n",
       "      <td>501 to 1000 employees</td>\n",
       "      <td>1999</td>\n",
       "      <td>Aerospace &amp; Defense</td>\n",
       "      <td>Aerospace &amp; Defense</td>\n",
       "      <td>$100 to $500 million (USD)</td>\n",
       "      <td>0</td>\n",
       "      <td>56</td>\n",
       "      <td>117</td>\n",
       "      <td>86.5</td>\n",
       "      <td>OH</td>\n",
       "    </tr>\n",
       "    <tr>\n",
       "      <th>332</th>\n",
       "      <td>Data Analytics Project Manager</td>\n",
       "      <td>$34K-$92K (Glassdoor est.)</td>\n",
       "      <td>3.6</td>\n",
       "      <td>MassMutual\\n3.6</td>\n",
       "      <td>Springfield, MA</td>\n",
       "      <td>Springfield, MA</td>\n",
       "      <td>5001 to 10000 employees</td>\n",
       "      <td>1851</td>\n",
       "      <td>Insurance Carriers</td>\n",
       "      <td>Insurance</td>\n",
       "      <td>$10+ billion (USD)</td>\n",
       "      <td>0</td>\n",
       "      <td>34</td>\n",
       "      <td>92</td>\n",
       "      <td>63.0</td>\n",
       "      <td>MA</td>\n",
       "    </tr>\n",
       "  </tbody>\n",
       "</table>\n",
       "</div>"
      ],
      "text/plain": [
       "                          Job Title              Salary Estimate  Rating  \\\n",
       "48      Spectral Scientist/Engineer  $56K-$117K (Glassdoor est.)     4.7   \n",
       "332  Data Analytics Project Manager   $34K-$92K (Glassdoor est.)     3.6   \n",
       "\n",
       "        Company Name         Location     Headquarters  \\\n",
       "48     Centauri\\n4.7  Beavercreek, OH    Chantilly, VA   \n",
       "332  MassMutual\\n3.6  Springfield, MA  Springfield, MA   \n",
       "\n",
       "                        Size  Founded             Industry  \\\n",
       "48     501 to 1000 employees     1999  Aerospace & Defense   \n",
       "332  5001 to 10000 employees     1851   Insurance Carriers   \n",
       "\n",
       "                  Sector                     Revenue  hourly  min_salary  \\\n",
       "48   Aerospace & Defense  $100 to $500 million (USD)       0          56   \n",
       "332            Insurance          $10+ billion (USD)       0          34   \n",
       "\n",
       "     max_salary  avg_salary job_state  \n",
       "48          117        86.5        OH  \n",
       "332          92        63.0        MA  "
      ]
     },
     "execution_count": 9,
     "metadata": {},
     "output_type": "execute_result"
    }
   ],
   "source": [
    "copy_df.sample(2)"
   ]
  },
  {
   "attachments": {},
   "cell_type": "markdown",
   "metadata": {},
   "source": [
    "###### Cleaning df based on the \"Hourly\" column"
   ]
  },
  {
   "cell_type": "code",
   "execution_count": 10,
   "metadata": {},
   "outputs": [
    {
     "name": "stdout",
     "output_type": "stream",
     "text": [
      "[0 1]\n"
     ]
    }
   ],
   "source": [
    "##First checking what values are in the \"hourly\" column, then choosing only those that show salary as average per year\n",
    "\n",
    "print(copy_df['hourly'].unique())\n",
    "\n",
    "copy_df = copy_df[~(copy_df[\"hourly\"] == 1)]"
   ]
  },
  {
   "attachments": {},
   "cell_type": "markdown",
   "metadata": {},
   "source": [
    "##### Cleaning and transforming the values in the important columns\n",
    "###### Cleaning the \"Location\" column"
   ]
  },
  {
   "cell_type": "code",
   "execution_count": 11,
   "metadata": {},
   "outputs": [
    {
     "name": "stdout",
     "output_type": "stream",
     "text": [
      "(194,)\n",
      "False    718\n",
      "Name: Location, dtype: int64\n"
     ]
    },
    {
     "data": {
      "text/plain": [
       "True    718\n",
       "Name: Location, dtype: int64"
      ]
     },
     "execution_count": 11,
     "metadata": {},
     "output_type": "execute_result"
    }
   ],
   "source": [
    "##Checking how many unique values are in the \"Location\" column\n",
    "print(copy_df[\"Location\"].unique().shape)\n",
    "\n",
    "##Since there are to many unique values to check them manually, \n",
    "##checking if there are no strange values in the \"Location\" column using the below method\n",
    "print(copy_df[\"Location\"].isin([\"N/A\", \"Not-Applicable\", \"Not/Applicable\", \"n/a\", \"na\", \"Unknown\",\n",
    "                        \"Unknown / Not-Applicable\", \"Unknown / Non-Applicable\", \"Unknown/Not-Applicable\", \n",
    "                        \"Unknown/Non-Applicable\"]).value_counts())\n",
    "\n",
    "\n",
    "##Now making sure that all values are alphabetical\n",
    "copy_df[\"Location\"].str.replace(\"\\W\", \"\", regex=True).str.isalpha().value_counts()\n"
   ]
  },
  {
   "attachments": {},
   "cell_type": "markdown",
   "metadata": {},
   "source": [
    "###### Changing the \"Location\" column so that it would be divided into city and state"
   ]
  },
  {
   "cell_type": "code",
   "execution_count": 12,
   "metadata": {},
   "outputs": [
    {
     "data": {
      "text/html": [
       "<div>\n",
       "<style scoped>\n",
       "    .dataframe tbody tr th:only-of-type {\n",
       "        vertical-align: middle;\n",
       "    }\n",
       "\n",
       "    .dataframe tbody tr th {\n",
       "        vertical-align: top;\n",
       "    }\n",
       "\n",
       "    .dataframe thead th {\n",
       "        text-align: right;\n",
       "    }\n",
       "</style>\n",
       "<table border=\"1\" class=\"dataframe\">\n",
       "  <thead>\n",
       "    <tr style=\"text-align: right;\">\n",
       "      <th></th>\n",
       "      <th>0</th>\n",
       "      <th>1</th>\n",
       "      <th>2</th>\n",
       "    </tr>\n",
       "  </thead>\n",
       "  <tbody>\n",
       "    <tr>\n",
       "      <th>0</th>\n",
       "      <td>Albuquerque</td>\n",
       "      <td>NM</td>\n",
       "      <td>None</td>\n",
       "    </tr>\n",
       "    <tr>\n",
       "      <th>1</th>\n",
       "      <td>Linthicum</td>\n",
       "      <td>MD</td>\n",
       "      <td>None</td>\n",
       "    </tr>\n",
       "    <tr>\n",
       "      <th>2</th>\n",
       "      <td>Clearwater</td>\n",
       "      <td>FL</td>\n",
       "      <td>None</td>\n",
       "    </tr>\n",
       "  </tbody>\n",
       "</table>\n",
       "</div>"
      ],
      "text/plain": [
       "             0    1     2\n",
       "0  Albuquerque   NM  None\n",
       "1    Linthicum   MD  None\n",
       "2   Clearwater   FL  None"
      ]
     },
     "execution_count": 12,
     "metadata": {},
     "output_type": "execute_result"
    }
   ],
   "source": [
    "##Splitting the \"Location\" column using \",\" and assigning it to a new variable, just to make it easier to cross-check\n",
    "city_state = copy_df[\"Location\"].str.split(\",\", expand=True)\n",
    "city_state.head(3)"
   ]
  },
  {
   "cell_type": "code",
   "execution_count": 151,
   "metadata": {},
   "outputs": [
    {
     "name": "stdout",
     "output_type": "stream",
     "text": [
      "      Location - City Location - State Location - Unknown\n",
      "126  Santa Fe Springs      Los Angeles                 CA\n",
      "    Location - City Location - State Location - Unknown\n",
      "126     Los Angeles               CA   Santa Fe Springs\n"
     ]
    },
    {
     "data": {
      "text/html": [
       "<div>\n",
       "<style scoped>\n",
       "    .dataframe tbody tr th:only-of-type {\n",
       "        vertical-align: middle;\n",
       "    }\n",
       "\n",
       "    .dataframe tbody tr th {\n",
       "        vertical-align: top;\n",
       "    }\n",
       "\n",
       "    .dataframe thead th {\n",
       "        text-align: right;\n",
       "    }\n",
       "</style>\n",
       "<table border=\"1\" class=\"dataframe\">\n",
       "  <thead>\n",
       "    <tr style=\"text-align: right;\">\n",
       "      <th></th>\n",
       "      <th>Location - City</th>\n",
       "      <th>Location - State</th>\n",
       "    </tr>\n",
       "  </thead>\n",
       "  <tbody>\n",
       "    <tr>\n",
       "      <th>126</th>\n",
       "      <td>Los Angeles</td>\n",
       "      <td>CA</td>\n",
       "    </tr>\n",
       "  </tbody>\n",
       "</table>\n",
       "</div>"
      ],
      "text/plain": [
       "    Location - City Location - State\n",
       "126     Los Angeles               CA"
      ]
     },
     "execution_count": 151,
     "metadata": {},
     "output_type": "execute_result"
    }
   ],
   "source": [
    "##First, changing the column names\n",
    "city_state.rename(columns={0: \"Location - City\", 1: \"Location - State\", 2: \"Location - Unknown\"}, inplace=True)\n",
    "\n",
    "##Now checking which column had NA values, which will allow us to find the rows affecting the result\n",
    "##The correct number should be 718 if all values are NA as that is the number of rows, or 0 if there are no NA\n"
    "##So if the number is less than 718 or not equal to 0, it means there are some NA values.\n",
    "city_state[pd.isna(city_state[\"Location - City\"])].index.value_counts().sum()\n",
    "city_state[pd.isna(city_state[\"Location - State\"])].index.value_counts().sum()\n",
    "city_state[pd.isna(city_state[\"Location - Unknown\"])].index.value_counts().sum()\n",
    "\n",
    "##Since the previous code returned 717 rows for the \"Location - Unknown\" column, checking \n",
    "##which rows affected the result in the column \"Location - Unknown\".\n",
    "index_of_notna = city_state[~pd.isna(city_state[\"Location - Unknown\"])].index\n",
    "rows_w_incorrect_values = city_state.loc[index_of_notna]\n",
    "print(rows_w_incorrect_values)\n",
    "\n",
    "##The above code returned only one row that affected the result. In this situation, simply changing the order\n",
    "##of the values, should fix the issue\n",
    "city_state.loc[[126]] = rows_w_incorrect_values[[\"Location - State\", \"Location - Unknown\", \"Location - City\"]]\n",
    "print(city_state.loc[[126]])\n",
    "\n",
    "##After changing the order of the incorrect row, dropping the unecessary column that was created only because\n",
    "##of that 1 row, and checking if the previous row is showing correctly now.\n",
    "city_state.drop(\"Location - Unknown\", inplace=True, axis=1)\n",
    "city_state.loc[[126]]"
   ]
  },
  {
   "attachments": {},
   "cell_type": "markdown",
   "metadata": {},
   "source": [
    "###### Cross-checking the values from the \"Location - State\" column to the \"job_state\" that was already present in the data"
   ]
  },
  {
   "cell_type": "code",
   "execution_count": 152,
   "metadata": {},
   "outputs": [
    {
     "name": "stdout",
     "output_type": "stream",
     "text": [
      "False\n"
     ]
    },
    {
     "data": {
      "text/plain": [
       "True"
      ]
     },
     "execution_count": 152,
     "metadata": {},
     "output_type": "execute_result"
    }
   ],
   "source": [
    "##Comparing the values from both columns \n",
    "print((city_state[\"Location - State\"] == copy_df[\"job_state\"]).all(axis=0))\n",
    "\n",
    "##Since it came up as false, checking the first rows\n",
    "city_state[\"Location - State\"][0]\n",
    "copy_df[\"job_state\"][0]\n",
    "\n",
    "##It appears there is an additional space on the left of the values in the \"Location - State\" column.\n",
    "##Hence removing it from the States, and as a prevention, removing it from the City column as well.\n",
    "city_state[\"Location - City\"] = city_state[\"Location - City\"].str.lstrip()\n",
    "city_state[\"Location - State\"] = city_state[\"Location - State\"].str.lstrip()\n",
    "\n",
    "##Comparing again\n",
    "(city_state[\"Location - State\"] == copy_df[\"job_state\"]).all(axis=0)"
   ]
  },
  {
   "attachments": {},
   "cell_type": "markdown",
   "metadata": {},
   "source": [
    "###### Adding the columns to the original df"
   ]
  },
  {
   "cell_type": "code",
   "execution_count": 153,
   "metadata": {},
   "outputs": [
    {
     "data": {
      "text/plain": [
       "True"
      ]
     },
     "execution_count": 153,
     "metadata": {},
     "output_type": "execute_result"
    }
   ],
   "source": [
    "##Adding both columns to the original df by mapping them using index as the index hasn't been modified yet,\n",
    "##hence it should work properly\n",
    "copy_df[\"Location-City\"] = copy_df.index.map(\n",
    "    city_state[\"Location - City\"])\n",
    "\n",
    "copy_df[\"Location-State\"] = copy_df.index.map(\n",
    "    city_state[\"Location - State\"])\n",
    "\n",
    "##And checking if the mapping did in fact work correctly\n",
    "(copy_df[\"Location-State\"] == copy_df[\"job_state\"]).all()"
   ]
  },
  {
   "attachments": {},
   "cell_type": "markdown",
   "metadata": {},
   "source": [
    "###### Cleaning the \"Sector\" column"
   ]
  },
  {
   "cell_type": "code",
   "execution_count": 154,
   "metadata": {},
   "outputs": [
    {
     "name": "stdout",
     "output_type": "stream",
     "text": [
      "(24,)\n",
      "['Aerospace & Defense' 'Health Care' 'Business Services'\n",
      " 'Oil, Gas, Energy & Utilities' 'Real Estate' 'Finance'\n",
      " 'Information Technology' 'Retail' 'Biotech & Pharmaceuticals' 'Media'\n",
      " 'Insurance' 'Transportation & Logistics' 'Telecommunications' '-1'\n",
      " 'Manufacturing' 'Mining & Metals' 'Government' 'Education'\n",
      " 'Agriculture & Forestry' 'Travel & Tourism' 'Non-Profit'\n",
      " 'Arts, Entertainment & Recreation' 'Accounting & Legal'\n",
      " 'Consumer Services']\n",
      "True\n"
     ]
    }
   ],
   "source": [
    "##Checking how many unique values are in the \"Sector\" column\n",
    "print(copy_df[\"Sector\"].unique().shape)\n",
    "\n",
    "##Since there are not that many unique values, we are able to check it manually\n",
    "print(copy_df[\"Sector\"].unique())\n",
    "\n",
    "##There appears to be an incorrect value \"-1\", in this situation, deleting the rows with the incorrect values.\n",
    "##Because the data type of that column is \"Object\", the \"-1\" is a string rather than an int type.\n",
    "copy_df = copy_df[copy_df[\"Sector\"] != \"-1\"]\n",
    "\n",
    "##Executing the code for alphabetical values to make sure that there are no -1 values\n",
    "print((copy_df[\"Sector\"].str.replace(\"\\W\", \"\", regex=True).str.isalpha()).all())"
   ]
  },
  {
   "cell_type": "code",
   "execution_count": 155,
   "metadata": {},
   "outputs": [
    {
     "data": {
      "text/html": [
       "<div>\n",
       "<style scoped>\n",
       "    .dataframe tbody tr th:only-of-type {\n",
       "        vertical-align: middle;\n",
       "    }\n",
       "\n",
       "    .dataframe tbody tr th {\n",
       "        vertical-align: top;\n",
       "    }\n",
       "\n",
       "    .dataframe thead th {\n",
       "        text-align: right;\n",
       "    }\n",
       "</style>\n",
       "<table border=\"1\" class=\"dataframe\">\n",
       "  <thead>\n",
       "    <tr style=\"text-align: right;\">\n",
       "      <th></th>\n",
       "      <th>Job Title</th>\n",
       "      <th>Salary Estimate</th>\n",
       "      <th>Rating</th>\n",
       "      <th>Company Name</th>\n",
       "      <th>Location</th>\n",
       "      <th>Headquarters</th>\n",
       "      <th>Size</th>\n",
       "      <th>Founded</th>\n",
       "      <th>Industry</th>\n",
       "      <th>Sector</th>\n",
       "      <th>Revenue</th>\n",
       "      <th>hourly</th>\n",
       "      <th>min_salary</th>\n",
       "      <th>max_salary</th>\n",
       "      <th>avg_salary</th>\n",
       "      <th>job_state</th>\n",
       "      <th>Location-City</th>\n",
       "      <th>Location-State</th>\n",
       "    </tr>\n",
       "  </thead>\n",
       "  <tbody>\n",
       "    <tr>\n",
       "      <th>706</th>\n",
       "      <td>Data Engineer</td>\n",
       "      <td>$76K-$142K (Glassdoor est.)</td>\n",
       "      <td>3.4</td>\n",
       "      <td>MetroStar Systems\\n3.4</td>\n",
       "      <td>Rockville, MD</td>\n",
       "      <td>Reston, VA</td>\n",
       "      <td>201 to 500 employees</td>\n",
       "      <td>1999</td>\n",
       "      <td>IT Services</td>\n",
       "      <td>Information Technology</td>\n",
       "      <td>$25 to $50 million (USD)</td>\n",
       "      <td>0</td>\n",
       "      <td>76</td>\n",
       "      <td>142</td>\n",
       "      <td>109.0</td>\n",
       "      <td>MD</td>\n",
       "      <td>Rockville</td>\n",
       "      <td>MD</td>\n",
       "    </tr>\n",
       "    <tr>\n",
       "      <th>385</th>\n",
       "      <td>Data Engineer</td>\n",
       "      <td>$61K-$109K (Glassdoor est.)</td>\n",
       "      <td>4.4</td>\n",
       "      <td>BRMi\\n4.4</td>\n",
       "      <td>Chantilly, VA</td>\n",
       "      <td>Washington, DC</td>\n",
       "      <td>51 to 200 employees</td>\n",
       "      <td>2004</td>\n",
       "      <td>IT Services</td>\n",
       "      <td>Information Technology</td>\n",
       "      <td>Unknown / Non-Applicable</td>\n",
       "      <td>0</td>\n",
       "      <td>61</td>\n",
       "      <td>109</td>\n",
       "      <td>85.0</td>\n",
       "      <td>VA</td>\n",
       "      <td>Chantilly</td>\n",
       "      <td>VA</td>\n",
       "    </tr>\n",
       "  </tbody>\n",
       "</table>\n",
       "</div>"
      ],
      "text/plain": [
       "         Job Title              Salary Estimate  Rating  \\\n",
       "706  Data Engineer  $76K-$142K (Glassdoor est.)     3.4   \n",
       "385  Data Engineer  $61K-$109K (Glassdoor est.)     4.4   \n",
       "\n",
       "               Company Name       Location    Headquarters  \\\n",
       "706  MetroStar Systems\\n3.4  Rockville, MD      Reston, VA   \n",
       "385               BRMi\\n4.4  Chantilly, VA  Washington, DC   \n",
       "\n",
       "                     Size  Founded     Industry                  Sector  \\\n",
       "706  201 to 500 employees     1999  IT Services  Information Technology   \n",
       "385   51 to 200 employees     2004  IT Services  Information Technology   \n",
       "\n",
       "                      Revenue  hourly  min_salary  max_salary  avg_salary  \\\n",
       "706  $25 to $50 million (USD)       0          76         142       109.0   \n",
       "385  Unknown / Non-Applicable       0          61         109        85.0   \n",
       "\n",
       "    job_state Location-City Location-State  \n",
       "706        MD     Rockville             MD  \n",
       "385        VA     Chantilly             VA  "
      ]
     },
     "execution_count": 155,
     "metadata": {},
     "output_type": "execute_result"
    }
   ],
   "source": [
    "##Making sure that everything is showing correctly for now\n",
    "copy_df.sample(2)"
   ]
  },
  {
   "attachments": {},
   "cell_type": "markdown",
   "metadata": {},
   "source": [
    "###### Cleaning and cross-checking the salary columns by comparing the already existing salary columns with the numbers extracted from the \"Salary Estimate\" column"
   ]
  },
  {
   "attachments": {},
   "cell_type": "markdown",
   "metadata": {},
   "source": [
    "###### Minimum salary"
   ]
  },
  {
   "cell_type": "code",
   "execution_count": 156,
   "metadata": {},
   "outputs": [],
   "source": [
    "##Adding a Minimum Yearly Salary column, by extracting the values from the minimum bracket provided in the\n",
    "##\"Salary Estimate\" column.\n",
    "copy_df[\"Minimum Yearly Salary\"] = copy_df[\"Salary Estimate\"].map(lambda x: x[x.find(\"$\")+1:x.find(\"K\")])"
   ]
  },
  {
   "cell_type": "code",
   "execution_count": 157,
   "metadata": {},
   "outputs": [
    {
     "data": {
      "text/plain": [
       "True"
      ]
     },
     "execution_count": 157,
     "metadata": {},
     "output_type": "execute_result"
    }
   ],
   "source": [
    "##Changing the type of the new column to numeric and then checking if the values from the new column\n",
    "##match the values from the old column\n",
    "\n",
    "copy_df[\"Minimum Yearly Salary\"] = pd.to_numeric(copy_df[\"Minimum Yearly Salary\"])\n",
    "(copy_df[\"Minimum Yearly Salary\"] == copy_df[\"min_salary\"]).all()"
   ]
  },
  {
   "attachments": {},
   "cell_type": "markdown",
   "metadata": {},
   "source": [
    "###### Maximum salary"
   ]
  },
  {
   "cell_type": "code",
   "execution_count": 158,
   "metadata": {},
   "outputs": [],
   "source": [
    "##Repeating the same process as above but for the maximum bracket\n",
    "copy_df[\"Maximum Yearly Salary\"] = copy_df[\"Salary Estimate\"].map(\n",
    "    lambda x: x[x.find(\"$\", x.find(\"-\"))+1:x.find(\"K\", x.find(\"-\"))])"
   ]
  },
  {
   "cell_type": "code",
   "execution_count": 159,
   "metadata": {},
   "outputs": [
    {
     "data": {
      "text/plain": [
       "True"
      ]
     },
     "execution_count": 159,
     "metadata": {},
     "output_type": "execute_result"
    }
   ],
   "source": [
    "##The same checking process as for the minimum values\n",
    "copy_df[\"Maximum Yearly Salary\"] = pd.to_numeric(copy_df[\"Maximum Yearly Salary\"])\n",
    "(copy_df[\"Maximum Yearly Salary\"] == copy_df[\"max_salary\"]).all()"
   ]
  },
  {
   "attachments": {},
   "cell_type": "markdown",
   "metadata": {},
   "source": [
    "###### Average salary"
   ]
  },
  {
   "cell_type": "code",
   "execution_count": 160,
   "metadata": {},
   "outputs": [],
   "source": [
    "##Adding an Average salary column by calculating the average value for minimum and maximum salaries\n",
    "copy_df[\"Average Yearly Salary\"] = (\n",
    "    copy_df[\"Minimum Yearly Salary\"]+copy_df[\"Maximum Yearly Salary\"])/2"
   ]
  },
  {
   "cell_type": "code",
   "execution_count": 161,
   "metadata": {},
   "outputs": [
    {
     "data": {
      "text/plain": [
       "True"
      ]
     },
     "execution_count": 161,
     "metadata": {},
     "output_type": "execute_result"
    }
   ],
   "source": [
    "##Same cross-checking process as for the minimum and maximum values\n",
    "copy_df[\"Average Yearly Salary\"] = pd.to_numeric(copy_df[\"Average Yearly Salary\"])\n",
    "(copy_df[\"Average Yearly Salary\"] == copy_df[\"avg_salary\"]).all()"
   ]
  },
  {
   "attachments": {},
   "cell_type": "markdown",
   "metadata": {},
   "source": [
    "###### Making sure that the salaries are shown in thousands"
   ]
  },
  {
   "cell_type": "code",
   "execution_count": 162,
   "metadata": {},
   "outputs": [],
   "source": [
    "copy_df[[\"Minimum Yearly Salary\", \"Maximum Yearly Salary\", \"Average Yearly Salary\"]] = (\n",
    "    copy_df[[\"Minimum Yearly Salary\", \"Maximum Yearly Salary\", \"Average Yearly Salary\"]]*1000)"
   ]
  },
  {
   "cell_type": "code",
   "execution_count": 163,
   "metadata": {},
   "outputs": [
    {
     "data": {
      "text/html": [
       "<div>\n",
       "<style scoped>\n",
       "    .dataframe tbody tr th:only-of-type {\n",
       "        vertical-align: middle;\n",
       "    }\n",
       "\n",
       "    .dataframe tbody tr th {\n",
       "        vertical-align: top;\n",
       "    }\n",
       "\n",
       "    .dataframe thead th {\n",
       "        text-align: right;\n",
       "    }\n",
       "</style>\n",
       "<table border=\"1\" class=\"dataframe\">\n",
       "  <thead>\n",
       "    <tr style=\"text-align: right;\">\n",
       "      <th></th>\n",
       "      <th>Job Title</th>\n",
       "      <th>Salary Estimate</th>\n",
       "      <th>Rating</th>\n",
       "      <th>Company Name</th>\n",
       "      <th>Location</th>\n",
       "      <th>Headquarters</th>\n",
       "      <th>Size</th>\n",
       "      <th>Founded</th>\n",
       "      <th>Industry</th>\n",
       "      <th>Sector</th>\n",
       "      <th>...</th>\n",
       "      <th>hourly</th>\n",
       "      <th>min_salary</th>\n",
       "      <th>max_salary</th>\n",
       "      <th>avg_salary</th>\n",
       "      <th>job_state</th>\n",
       "      <th>Location-City</th>\n",
       "      <th>Location-State</th>\n",
       "      <th>Minimum Yearly Salary</th>\n",
       "      <th>Maximum Yearly Salary</th>\n",
       "      <th>Average Yearly Salary</th>\n",
       "    </tr>\n",
       "  </thead>\n",
       "  <tbody>\n",
       "    <tr>\n",
       "      <th>93</th>\n",
       "      <td>Data Modeler</td>\n",
       "      <td>$79K-$134K (Glassdoor est.)</td>\n",
       "      <td>4.7</td>\n",
       "      <td>IT Concepts\\n4.7</td>\n",
       "      <td>Landover, MD</td>\n",
       "      <td>Vienna, VA</td>\n",
       "      <td>51 to 200 employees</td>\n",
       "      <td>2003</td>\n",
       "      <td>IT Services</td>\n",
       "      <td>Information Technology</td>\n",
       "      <td>...</td>\n",
       "      <td>0</td>\n",
       "      <td>79</td>\n",
       "      <td>134</td>\n",
       "      <td>106.5</td>\n",
       "      <td>MD</td>\n",
       "      <td>Landover</td>\n",
       "      <td>MD</td>\n",
       "      <td>79000</td>\n",
       "      <td>134000</td>\n",
       "      <td>106500.0</td>\n",
       "    </tr>\n",
       "    <tr>\n",
       "      <th>102</th>\n",
       "      <td>Data Scientist, Rice University</td>\n",
       "      <td>$65K-$110K (Glassdoor est.)</td>\n",
       "      <td>4.3</td>\n",
       "      <td>Trilogy Ed\\n4.3</td>\n",
       "      <td>Houston, TX</td>\n",
       "      <td>New York, NY</td>\n",
       "      <td>1001 to 5000 employees</td>\n",
       "      <td>2015</td>\n",
       "      <td>Education Training Services</td>\n",
       "      <td>Education</td>\n",
       "      <td>...</td>\n",
       "      <td>0</td>\n",
       "      <td>65</td>\n",
       "      <td>110</td>\n",
       "      <td>87.5</td>\n",
       "      <td>TX</td>\n",
       "      <td>Houston</td>\n",
       "      <td>TX</td>\n",
       "      <td>65000</td>\n",
       "      <td>110000</td>\n",
       "      <td>87500.0</td>\n",
       "    </tr>\n",
       "  </tbody>\n",
       "</table>\n",
       "<p>2 rows × 21 columns</p>\n",
       "</div>"
      ],
      "text/plain": [
       "                           Job Title              Salary Estimate  Rating  \\\n",
       "93                      Data Modeler  $79K-$134K (Glassdoor est.)     4.7   \n",
       "102  Data Scientist, Rice University  $65K-$110K (Glassdoor est.)     4.3   \n",
       "\n",
       "         Company Name      Location  Headquarters                    Size  \\\n",
       "93   IT Concepts\\n4.7  Landover, MD    Vienna, VA     51 to 200 employees   \n",
       "102   Trilogy Ed\\n4.3   Houston, TX  New York, NY  1001 to 5000 employees   \n",
       "\n",
       "     Founded                     Industry                  Sector  ... hourly  \\\n",
       "93      2003                  IT Services  Information Technology  ...      0   \n",
       "102     2015  Education Training Services               Education  ...      0   \n",
       "\n",
       "     min_salary  max_salary  avg_salary  job_state Location-City  \\\n",
       "93           79         134       106.5         MD      Landover   \n",
       "102          65         110        87.5         TX       Houston   \n",
       "\n",
       "    Location-State Minimum Yearly Salary  Maximum Yearly Salary  \\\n",
       "93              MD                 79000                 134000   \n",
       "102             TX                 65000                 110000   \n",
       "\n",
       "     Average Yearly Salary  \n",
       "93                106500.0  \n",
       "102                87500.0  \n",
       "\n",
       "[2 rows x 21 columns]"
      ]
     },
     "execution_count": 163,
     "metadata": {},
     "output_type": "execute_result"
    }
   ],
   "source": [
    "copy_df.sample(2)"
   ]
  },
  {
   "attachments": {},
   "cell_type": "markdown",
   "metadata": {},
   "source": [
    "##### Fixing the Company Name"
   ]
  },
  {
   "cell_type": "code",
   "execution_count": 164,
   "metadata": {},
   "outputs": [],
   "source": [
    "##Since there are some issues with the \"Company Name\" column\n",
    "##I am trying to separate the rows where the Company Name contains \\n and does not contain it\n",
    "with_n = copy_df[\"Company Name\"][copy_df[\"Company Name\"].str.contains(r'\\n')]\n",
    "without_n = copy_df[\"Company Name\"][~copy_df[\"Company Name\"].str.contains(r'\\n')]"
   ]
  },
  {
   "cell_type": "code",
   "execution_count": 165,
   "metadata": {},
   "outputs": [
    {
     "data": {
      "text/plain": [
       "array([4], dtype=int64)"
      ]
     },
     "execution_count": 165,
     "metadata": {},
     "output_type": "execute_result"
    }
   ],
   "source": [
    "##Here, I am trying to find how many characters should be deleted in each cell, from the rows that contain \\n\n",
    "characters = (with_n.str.len() - with_n.str.find(\"\\n\"))\n",
    "\n",
    "##By doing .unique() I am able to see if all the names have the \\n at the end of the sentence or are the values \n",
    "##at different places throughout the rows. \n",
    "##Additionally, this also shows me how many characters do I need to delete from the names. \n",
    "characters.unique()"
   ]
  },
  {
   "cell_type": "code",
   "execution_count": 166,
   "metadata": {},
   "outputs": [],
   "source": [
    "##Luckily, all the values equal 4, this means, that for all the rows the \\n is at the same place, and \n",
    "##this is how many characters we have to delete.\n",
    "\n",
    "deleted_n = copy_df[\"Company Name\"][copy_df[\"Company Name\"].str.contains(r'\\n')].str[:-4]\n",
    "\n",
    "##Once we have removed \\n and all the unnecessary characters to the right of it, we can simply\n",
    "##map the new values to the existing column using index.\n",
    "\n",
    "copy_df[\"Company Name\"] = copy_df[\"Company Name\"].index.map(deleted_n)\n",
    "\n",
    "##########Please Note###########\n",
    "##This could've and should've been done using .replace(), however, after trying it, this method wasn't\n",
    "##working as expected. Hence, the above approach"
   ]
  },
  {
   "cell_type": "code",
   "execution_count": 167,
   "metadata": {},
   "outputs": [
    {
     "data": {
      "text/plain": [
       "False    706\n",
       "Name: Company Name, dtype: int64"
      ]
     },
     "execution_count": 167,
     "metadata": {},
     "output_type": "execute_result"
    }
   ],
   "source": [
    "#Finally checking if the changes applied correctly\n",
    "copy_df[\"Company Name\"].str.contains(r'\\n').value_counts()"
   ]
  },
  {
   "attachments": {},
   "cell_type": "markdown",
   "metadata": {},
   "source": [
    "##### Final cleaning steps"
   ]
  },
  {
   "cell_type": "code",
   "execution_count": 168,
   "metadata": {},
   "outputs": [
    {
     "data": {
      "text/plain": [
       "Index(['Job Title', 'Salary Estimate', 'Company Name', 'Industry', 'Sector',\n",
       "       'Revenue', 'Location-City', 'Location-State', 'Minimum Yearly Salary',\n",
       "       'Maximum Yearly Salary', 'Average Yearly Salary'],\n",
       "      dtype='object')"
      ]
     },
     "execution_count": 168,
     "metadata": {},
     "output_type": "execute_result"
    }
   ],
   "source": [
    "##Deleting the rest of the obsolete columns. Added it to a new variable, to make sure to have something to return to\n",
    "##in case of any issues\n",
    "copy_df.columns\n",
    "almost_clean_df = copy_df.drop([\"Rating\", \"Location\", \"Headquarters\", \"Size\", \"Founded\",\n",
    "\"hourly\", \"min_salary\", \"max_salary\", \"avg_salary\", \"job_state\"], axis=1)\n",
    "almost_clean_df.columns"
   ]
  },
  {
   "cell_type": "code",
   "execution_count": 169,
   "metadata": {},
   "outputs": [],
   "source": [
    "##Changing the order of the columns\n",
    "almost_clean_df = almost_clean_df[[\"Job Title\", \"Salary Estimate\", \"Company Name\",\"Location-City\", \"Location-State\",\n",
    " \"Minimum Yearly Salary\", \"Maximum Yearly Salary\", \"Average Yearly Salary\", \"Industry\", \"Sector\", \"Revenue\"]]"
   ]
  },
  {
   "cell_type": "code",
   "execution_count": 170,
   "metadata": {},
   "outputs": [
    {
     "data": {
      "text/html": [
       "<div>\n",
       "<style scoped>\n",
       "    .dataframe tbody tr th:only-of-type {\n",
       "        vertical-align: middle;\n",
       "    }\n",
       "\n",
       "    .dataframe tbody tr th {\n",
       "        vertical-align: top;\n",
       "    }\n",
       "\n",
       "    .dataframe thead th {\n",
       "        text-align: right;\n",
       "    }\n",
       "</style>\n",
       "<table border=\"1\" class=\"dataframe\">\n",
       "  <thead>\n",
       "    <tr style=\"text-align: right;\">\n",
       "      <th></th>\n",
       "      <th>Job Title</th>\n",
       "      <th>Salary Estimate</th>\n",
       "      <th>Company Name</th>\n",
       "      <th>Location-City</th>\n",
       "      <th>Location-State</th>\n",
       "      <th>Minimum Yearly Salary</th>\n",
       "      <th>Maximum Yearly Salary</th>\n",
       "      <th>Average Yearly Salary</th>\n",
       "      <th>Industry</th>\n",
       "      <th>Sector</th>\n",
       "      <th>Revenue</th>\n",
       "    </tr>\n",
       "  </thead>\n",
       "  <tbody>\n",
       "    <tr>\n",
       "      <th>16</th>\n",
       "      <td>Scientist I/II, Biology</td>\n",
       "      <td>$67K-$137K (Glassdoor est.)</td>\n",
       "      <td>Blueprint Medicines</td>\n",
       "      <td>Cambridge</td>\n",
       "      <td>MA</td>\n",
       "      <td>67000</td>\n",
       "      <td>137000</td>\n",
       "      <td>102000.0</td>\n",
       "      <td>Biotech &amp; Pharmaceuticals</td>\n",
       "      <td>Biotech &amp; Pharmaceuticals</td>\n",
       "      <td>$1 to $5 million (USD)</td>\n",
       "    </tr>\n",
       "    <tr>\n",
       "      <th>219</th>\n",
       "      <td>Lead Data Scientist</td>\n",
       "      <td>$124K-$204K (Glassdoor est.)</td>\n",
       "      <td>MassMutual</td>\n",
       "      <td>Boston</td>\n",
       "      <td>MA</td>\n",
       "      <td>124000</td>\n",
       "      <td>204000</td>\n",
       "      <td>164000.0</td>\n",
       "      <td>Insurance Carriers</td>\n",
       "      <td>Insurance</td>\n",
       "      <td>$10+ billion (USD)</td>\n",
       "    </tr>\n",
       "    <tr>\n",
       "      <th>108</th>\n",
       "      <td>Research Scientist</td>\n",
       "      <td>$38K-$85K (Glassdoor est.)</td>\n",
       "      <td>Boys Town Hospital</td>\n",
       "      <td>Omaha</td>\n",
       "      <td>NE</td>\n",
       "      <td>38000</td>\n",
       "      <td>85000</td>\n",
       "      <td>61500.0</td>\n",
       "      <td>Health Care Services &amp; Hospitals</td>\n",
       "      <td>Health Care</td>\n",
       "      <td>Unknown / Non-Applicable</td>\n",
       "    </tr>\n",
       "  </tbody>\n",
       "</table>\n",
       "</div>"
      ],
      "text/plain": [
       "                   Job Title               Salary Estimate  \\\n",
       "16   Scientist I/II, Biology   $67K-$137K (Glassdoor est.)   \n",
       "219      Lead Data Scientist  $124K-$204K (Glassdoor est.)   \n",
       "108       Research Scientist    $38K-$85K (Glassdoor est.)   \n",
       "\n",
       "            Company Name Location-City Location-State  Minimum Yearly Salary  \\\n",
       "16   Blueprint Medicines     Cambridge             MA                  67000   \n",
       "219           MassMutual        Boston             MA                 124000   \n",
       "108   Boys Town Hospital         Omaha             NE                  38000   \n",
       "\n",
       "     Maximum Yearly Salary  Average Yearly Salary  \\\n",
       "16                  137000               102000.0   \n",
       "219                 204000               164000.0   \n",
       "108                  85000                61500.0   \n",
       "\n",
       "                             Industry                     Sector  \\\n",
       "16          Biotech & Pharmaceuticals  Biotech & Pharmaceuticals   \n",
       "219                Insurance Carriers                  Insurance   \n",
       "108  Health Care Services & Hospitals                Health Care   \n",
       "\n",
       "                      Revenue  \n",
       "16     $1 to $5 million (USD)  \n",
       "219        $10+ billion (USD)  \n",
       "108  Unknown / Non-Applicable  "
      ]
     },
     "execution_count": 170,
     "metadata": {},
     "output_type": "execute_result"
    }
   ],
   "source": [
    "##Checking how does the cleaned data look like\n",
    "almost_clean_df.sample(3)"
   ]
  },
  {
   "cell_type": "code",
   "execution_count": 171,
   "metadata": {},
   "outputs": [],
   "source": [
    "##Assigning the now completely cleaned df to a new variable. Additionally resetting the index\n",
    "cleaned_df = almost_clean_df.reset_index(drop=True)"
   ]
  },
  {
   "cell_type": "code",
   "execution_count": 172,
   "metadata": {},
   "outputs": [],
   "source": [
    "##Saving the df as a CSV file in case this file gets corrupted or to use for future analysis\n",
    "cleaned_df.to_csv(\"./Cleaned_df.csv\")"
   ]
  },
  {
   "attachments": {},
   "cell_type": "markdown",
   "metadata": {},
   "source": [
    "### Analysis"
   ]
  },
  {
   "attachments": {},
   "cell_type": "markdown",
   "metadata": {},
   "source": [
    "###### Table showing Top 3 sectors based on Average Yearly Salary"
   ]
  },
  {
   "cell_type": "code",
   "execution_count": 173,
   "metadata": {},
   "outputs": [
    {
     "data": {
      "text/html": [
       "<div>\n",
       "<style scoped>\n",
       "    .dataframe tbody tr th:only-of-type {\n",
       "        vertical-align: middle;\n",
       "    }\n",
       "\n",
       "    .dataframe tbody tr th {\n",
       "        vertical-align: top;\n",
       "    }\n",
       "\n",
       "    .dataframe thead th {\n",
       "        text-align: right;\n",
       "    }\n",
       "</style>\n",
       "<table border=\"1\" class=\"dataframe\">\n",
       "  <thead>\n",
       "    <tr style=\"text-align: right;\">\n",
       "      <th></th>\n",
       "      <th>Average_Yearly_Salary</th>\n",
       "      <th>Job_offers</th>\n",
       "    </tr>\n",
       "    <tr>\n",
       "      <th>Sector</th>\n",
       "      <th></th>\n",
       "      <th></th>\n",
       "    </tr>\n",
       "  </thead>\n",
       "  <tbody>\n",
       "    <tr>\n",
       "      <th>Media</th>\n",
       "      <td>116666.67</td>\n",
       "      <td>6</td>\n",
       "    </tr>\n",
       "    <tr>\n",
       "      <th>Accounting &amp; Legal</th>\n",
       "      <td>113500.00</td>\n",
       "      <td>1</td>\n",
       "    </tr>\n",
       "    <tr>\n",
       "      <th>Information Technology</th>\n",
       "      <td>113191.67</td>\n",
       "      <td>180</td>\n",
       "    </tr>\n",
       "  </tbody>\n",
       "</table>\n",
       "</div>"
      ],
      "text/plain": [
       "                        Average_Yearly_Salary  Job_offers\n",
       "Sector                                                   \n",
       "Media                               116666.67           6\n",
       "Accounting & Legal                  113500.00           1\n",
       "Information Technology              113191.67         180"
      ]
     },
     "execution_count": 173,
     "metadata": {},
     "output_type": "execute_result"
    }
   ],
   "source": [
    "all_sectors_avg = cleaned_df.groupby(\"Sector\")[[\"Average Yearly Salary\", \"Sector\"]].agg(\n",
    "    Average_Yearly_Salary = pd.NamedAgg(column=\"Average Yearly Salary\", aggfunc=\"mean\"),\n",
    "    Job_offers = pd.NamedAgg(column=\"Sector\", aggfunc=\"count\"),\n",
    "    ).round(2).sort_values(\"Average_Yearly_Salary\", ascending=False)\n",
    "\n",
    "\n",
    "all_sectors_avg.head(3)"
   ]
  },
  {
   "attachments": {},
   "cell_type": "markdown",
   "metadata": {},
   "source": [
    "###### Table showing Top 3 sectors based on Average Yearly Salary, but only those with at least 10 job offers"
   ]
  },
  {
   "cell_type": "code",
   "execution_count": 174,
   "metadata": {},
   "outputs": [
    {
     "data": {
      "text/html": [
       "<div>\n",
       "<style scoped>\n",
       "    .dataframe tbody tr th:only-of-type {\n",
       "        vertical-align: middle;\n",
       "    }\n",
       "\n",
       "    .dataframe tbody tr th {\n",
       "        vertical-align: top;\n",
       "    }\n",
       "\n",
       "    .dataframe thead th {\n",
       "        text-align: right;\n",
       "    }\n",
       "</style>\n",
       "<table border=\"1\" class=\"dataframe\">\n",
       "  <thead>\n",
       "    <tr style=\"text-align: right;\">\n",
       "      <th></th>\n",
       "      <th>Average_Yearly_Salary</th>\n",
       "      <th>Job_offers</th>\n",
       "    </tr>\n",
       "    <tr>\n",
       "      <th>Sector</th>\n",
       "      <th></th>\n",
       "      <th></th>\n",
       "    </tr>\n",
       "  </thead>\n",
       "  <tbody>\n",
       "    <tr>\n",
       "      <th>Information Technology</th>\n",
       "      <td>113191.67</td>\n",
       "      <td>180</td>\n",
       "    </tr>\n",
       "    <tr>\n",
       "      <th>Biotech &amp; Pharmaceuticals</th>\n",
       "      <td>112441.44</td>\n",
       "      <td>111</td>\n",
       "    </tr>\n",
       "    <tr>\n",
       "      <th>Insurance</th>\n",
       "      <td>105942.03</td>\n",
       "      <td>69</td>\n",
       "    </tr>\n",
       "  </tbody>\n",
       "</table>\n",
       "</div>"
      ],
      "text/plain": [
       "                           Average_Yearly_Salary  Job_offers\n",
       "Sector                                                      \n",
       "Information Technology                 113191.67         180\n",
       "Biotech & Pharmaceuticals              112441.44         111\n",
       "Insurance                              105942.03          69"
      ]
     },
     "execution_count": 174,
     "metadata": {},
     "output_type": "execute_result"
    }
   ],
   "source": [
    "##I am assigning top 3 to a new variable, for future calculations\n",
    "more_than_10 = all_sectors_avg[all_sectors_avg[\"Job_offers\"] >= 10]\n",
    "\n",
    "Top_3_10 = more_than_10.head(3)\n",
    "Top_3_10"
   ]
  },
  {
   "attachments": {},
   "cell_type": "markdown",
   "metadata": {},
   "source": [
    "###### Table showing how much more can you earn in the Top 3 sectors with at least 10 job offers, compared to the average for all sectors with at least 10 job offers (in %)"
   ]
  },
  {
   "cell_type": "code",
   "execution_count": 175,
   "metadata": {},
   "outputs": [
    {
     "name": "stdout",
     "output_type": "stream",
     "text": [
      "104151.54\n"
     ]
    },
    {
     "data": {
      "text/html": [
       "<div>\n",
       "<style scoped>\n",
       "    .dataframe tbody tr th:only-of-type {\n",
       "        vertical-align: middle;\n",
       "    }\n",
       "\n",
       "    .dataframe tbody tr th {\n",
       "        vertical-align: top;\n",
       "    }\n",
       "\n",
       "    .dataframe thead th {\n",
       "        text-align: right;\n",
       "    }\n",
       "</style>\n",
       "<table border=\"1\" class=\"dataframe\">\n",
       "  <thead>\n",
       "    <tr style=\"text-align: right;\">\n",
       "      <th></th>\n",
       "      <th>Average_Yearly_Salary</th>\n",
       "    </tr>\n",
       "    <tr>\n",
       "      <th>Sector</th>\n",
       "      <th></th>\n",
       "    </tr>\n",
       "  </thead>\n",
       "  <tbody>\n",
       "    <tr>\n",
       "      <th>Information Technology</th>\n",
       "      <td>8.68</td>\n",
       "    </tr>\n",
       "    <tr>\n",
       "      <th>Biotech &amp; Pharmaceuticals</th>\n",
       "      <td>7.96</td>\n",
       "    </tr>\n",
       "    <tr>\n",
       "      <th>Insurance</th>\n",
       "      <td>1.72</td>\n",
       "    </tr>\n",
       "  </tbody>\n",
       "</table>\n",
       "</div>"
      ],
      "text/plain": [
       "                           Average_Yearly_Salary\n",
       "Sector                                          \n",
       "Information Technology                      8.68\n",
       "Biotech & Pharmaceuticals                   7.96\n",
       "Insurance                                   1.72"
      ]
     },
     "execution_count": 175,
     "metadata": {},
     "output_type": "execute_result"
    }
   ],
   "source": [
    "##Calculating the weighted average, where weights are the number of job offers\n",
    "w_avg = np.average(more_than_10[\"Average_Yearly_Salary\"], weights=more_than_10[\"Job_offers\"]).round(2)\n",
    "print(w_avg)\n",
    "\n",
    "##Calculating the increase in %\n",
    "percent_inc = (((Top_3_10[[\"Average_Yearly_Salary\"]]/w_avg)-1)*100).round(2)\n",
    "percent_inc"
   ]
  },
  {
   "cell_type": "code",
   "execution_count": 176,
   "metadata": {},
   "outputs": [
    {
     "name": "stdout",
     "output_type": "stream",
     "text": [
      "True\n",
      "True\n",
      "True\n"
     ]
    }
   ],
   "source": [
    "##Checking if the % returned are correct. If the values returned by these calculations equal\n",
    "##the average salary for the Top 3 sectors, they are correct.\n",
    "\n",
    "##I am using the prerounded % values to make sure the results are the most precise\n",
    "print((w_avg+w_avg*0.08679785).round(2) == Top_3_10.loc[\"Information Technology\"][\"Average_Yearly_Salary\"])\n",
    "print((w_avg+w_avg*0.07959460).round(2) == Top_3_10.loc[\"Biotech & Pharmaceuticals\"][\"Average_Yearly_Salary\"])\n",
    "print((w_avg+w_avg*0.01719120).round(2) == Top_3_10.loc[\"Insurance\"][\"Average_Yearly_Salary\"])"
   ]
  },
  {
   "attachments": {},
   "cell_type": "markdown",
   "metadata": {},
   "source": [
    "###### Finding the Top 3 states for each of the Top 3 sectors with the highest number of job offers and an Average Yearly Salary higher than the average salary for the entire sector"
   ]
  },
  {
   "cell_type": "code",
   "execution_count": 177,
   "metadata": {},
   "outputs": [
    {
     "name": "stdout",
     "output_type": "stream",
     "text": [
      "(180, 11)\n",
      "(111, 11)\n",
      "(69, 11)\n"
     ]
    }
   ],
   "source": [
    "##Extracting all rows for the top3 sectors\n",
    "IT_all_rows = cleaned_df[cleaned_df[\"Sector\"] == \"Information Technology\"]\n",
    "BP_all_rows = cleaned_df[cleaned_df[\"Sector\"] == \"Biotech & Pharmaceuticals\"]\n",
    "Insurance_all_rows = cleaned_df[cleaned_df[\"Sector\"] == \"Insurance\"]\n",
    "\n",
    "##Checking if the data is correct\n",
    "print(IT_all_rows.shape)\n",
    "print(BP_all_rows.shape)\n",
    "print(Insurance_all_rows.shape)"
   ]
  },
  {
   "cell_type": "code",
   "execution_count": 178,
   "metadata": {},
   "outputs": [],
   "source": [
    "##Since I would need to apply the Group By function to each sector separately, I decided to create a function\n",
    "##to make it easier and faster\n",
    "def Top3States(sector_rows, avg_salary_sector):\n",
    "    \"\"\"\n",
    "    Sector_rows - refers to the df with rows only for a specific sector (IT_all_rows for example)\n",
    "    avg_salary_sector - the average yearly salary for the sector we want to check\n",
    "    \"\"\"\n",
    "    temp = sector_rows.groupby(\"Location-State\").agg(\n",
    "    Average_Yearly_Salary = pd.NamedAgg(column=\"Average Yearly Salary\", aggfunc=\"mean\"),\n",
    "    Job_offers = pd.NamedAgg(column=\"Location-State\", aggfunc=\"count\")\n",
    "    ).round(2).sort_values([\"Job_offers\", \"Average_Yearly_Salary\"], ascending=False)\n",
    "    \n",
    "    result = temp[temp[\"Average_Yearly_Salary\"] >= avg_salary_sector].head(3)\n",
    "    return result"
   ]
  },
  {
   "cell_type": "code",
   "execution_count": 179,
   "metadata": {},
   "outputs": [
    {
     "data": {
      "text/html": [
       "<div>\n",
       "<style scoped>\n",
       "    .dataframe tbody tr th:only-of-type {\n",
       "        vertical-align: middle;\n",
       "    }\n",
       "\n",
       "    .dataframe tbody tr th {\n",
       "        vertical-align: top;\n",
       "    }\n",
       "\n",
       "    .dataframe thead th {\n",
       "        text-align: right;\n",
       "    }\n",
       "</style>\n",
       "<table border=\"1\" class=\"dataframe\">\n",
       "  <thead>\n",
       "    <tr style=\"text-align: right;\">\n",
       "      <th></th>\n",
       "      <th>Average_Yearly_Salary</th>\n",
       "      <th>Job_offers</th>\n",
       "    </tr>\n",
       "    <tr>\n",
       "      <th>Location-State</th>\n",
       "      <th></th>\n",
       "      <th></th>\n",
       "    </tr>\n",
       "  </thead>\n",
       "  <tbody>\n",
       "    <tr>\n",
       "      <th>CA</th>\n",
       "      <td>138536.76</td>\n",
       "      <td>68</td>\n",
       "    </tr>\n",
       "    <tr>\n",
       "      <th>NY</th>\n",
       "      <td>114541.67</td>\n",
       "      <td>12</td>\n",
       "    </tr>\n",
       "    <tr>\n",
       "      <th>WA</th>\n",
       "      <td>131500.00</td>\n",
       "      <td>6</td>\n",
       "    </tr>\n",
       "  </tbody>\n",
       "</table>\n",
       "</div>"
      ],
      "text/plain": [
       "                Average_Yearly_Salary  Job_offers\n",
       "Location-State                                   \n",
       "CA                          138536.76          68\n",
       "NY                          114541.67          12\n",
       "WA                          131500.00           6"
      ]
     },
     "execution_count": 179,
     "metadata": {},
     "output_type": "execute_result"
    }
   ],
   "source": [
    "##Using the function - Top 3 states for Information Technology\n",
    "Top3_states_IT = Top3States(IT_all_rows, 113191.67)\n",
    "Top3_states_IT"
   ]
  },
  {
   "cell_type": "code",
   "execution_count": 180,
   "metadata": {},
   "outputs": [
    {
     "data": {
      "text/html": [
       "<div>\n",
       "<style scoped>\n",
       "    .dataframe tbody tr th:only-of-type {\n",
       "        vertical-align: middle;\n",
       "    }\n",
       "\n",
       "    .dataframe tbody tr th {\n",
       "        vertical-align: top;\n",
       "    }\n",
       "\n",
       "    .dataframe thead th {\n",
       "        text-align: right;\n",
       "    }\n",
       "</style>\n",
       "<table border=\"1\" class=\"dataframe\">\n",
       "  <thead>\n",
       "    <tr style=\"text-align: right;\">\n",
       "      <th></th>\n",
       "      <th>Average_Yearly_Salary</th>\n",
       "      <th>Job_offers</th>\n",
       "    </tr>\n",
       "    <tr>\n",
       "      <th>Location-State</th>\n",
       "      <th></th>\n",
       "      <th></th>\n",
       "    </tr>\n",
       "  </thead>\n",
       "  <tbody>\n",
       "    <tr>\n",
       "      <th>MA</th>\n",
       "      <td>117843.75</td>\n",
       "      <td>48</td>\n",
       "    </tr>\n",
       "    <tr>\n",
       "      <th>CA</th>\n",
       "      <td>118477.27</td>\n",
       "      <td>22</td>\n",
       "    </tr>\n",
       "    <tr>\n",
       "      <th>NY</th>\n",
       "      <td>119500.00</td>\n",
       "      <td>8</td>\n",
       "    </tr>\n",
       "  </tbody>\n",
       "</table>\n",
       "</div>"
      ],
      "text/plain": [
       "                Average_Yearly_Salary  Job_offers\n",
       "Location-State                                   \n",
       "MA                          117843.75          48\n",
       "CA                          118477.27          22\n",
       "NY                          119500.00           8"
      ]
     },
     "execution_count": 180,
     "metadata": {},
     "output_type": "execute_result"
    }
   ],
   "source": [
    "##Using the function - Top 3 states for Biotech & Pharmaceuticals\n",
    "Top3_states_BP = Top3States(BP_all_rows, 112441.44)\n",
    "Top3_states_BP"
   ]
  },
  {
   "cell_type": "code",
   "execution_count": 181,
   "metadata": {},
   "outputs": [
    {
     "data": {
      "text/html": [
       "<div>\n",
       "<style scoped>\n",
       "    .dataframe tbody tr th:only-of-type {\n",
       "        vertical-align: middle;\n",
       "    }\n",
       "\n",
       "    .dataframe tbody tr th {\n",
       "        vertical-align: top;\n",
       "    }\n",
       "\n",
       "    .dataframe thead th {\n",
       "        text-align: right;\n",
       "    }\n",
       "</style>\n",
       "<table border=\"1\" class=\"dataframe\">\n",
       "  <thead>\n",
       "    <tr style=\"text-align: right;\">\n",
       "      <th></th>\n",
       "      <th>Average_Yearly_Salary</th>\n",
       "      <th>Job_offers</th>\n",
       "    </tr>\n",
       "    <tr>\n",
       "      <th>Location-State</th>\n",
       "      <th></th>\n",
       "      <th></th>\n",
       "    </tr>\n",
       "  </thead>\n",
       "  <tbody>\n",
       "    <tr>\n",
       "      <th>NY</th>\n",
       "      <td>125642.86</td>\n",
       "      <td>7</td>\n",
       "    </tr>\n",
       "    <tr>\n",
       "      <th>IL</th>\n",
       "      <td>201583.33</td>\n",
       "      <td>6</td>\n",
       "    </tr>\n",
       "    <tr>\n",
       "      <th>NC</th>\n",
       "      <td>117000.00</td>\n",
       "      <td>3</td>\n",
       "    </tr>\n",
       "  </tbody>\n",
       "</table>\n",
       "</div>"
      ],
      "text/plain": [
       "                Average_Yearly_Salary  Job_offers\n",
       "Location-State                                   \n",
       "NY                          125642.86           7\n",
       "IL                          201583.33           6\n",
       "NC                          117000.00           3"
      ]
     },
     "execution_count": 181,
     "metadata": {},
     "output_type": "execute_result"
    }
   ],
   "source": [
    "##Using the function - Top 3 states for Insurance\n",
    "Top3_states_Insurance = Top3States(Insurance_all_rows, 105942.03)\n",
    "Top3_states_Insurance"
   ]
  },
  {
   "attachments": {},
   "cell_type": "markdown",
   "metadata": {},
   "source": [
    "###### Checking the Revenue impact on the number of job offers as well as yearly salary"
   ]
  },
  {
   "cell_type": "code",
   "execution_count": 182,
   "metadata": {},
   "outputs": [],
   "source": [
    "##First, I am checking what are the unique values, so then I can manually create 3 groups\n",
    "##These Groups do not include unknown values\n",
    "cleaned_df[\"Revenue\"].unique()\n",
    "\n",
    "Below_100m = [\"Less than $1 million (USD)\", \"$1 to $5 million (USD)\", \"$5 to $10 million (USD)\", \n",
    "\"$10 to $25 million (USD)\", \"$25 to $50 million (USD)\",\"$50 to $100 million (USD)\"]\n",
    "\n",
    "Between_100m_1B = [\"$100 to $500 million (USD)\", \"$500 million to $1 billion (USD)\"]\n",
    "\n",
    "Above_1B = [\"$1 to $2 billion (USD)\", \"$2 to $5 billion (USD)\",\"$5 to $10 billion (USD)\", \"$10+ billion (USD)\"]"
   ]
  },
  {
   "cell_type": "code",
   "execution_count": 183,
   "metadata": {},
   "outputs": [],
   "source": [
    "##Since I would need to do that for each sector, I created another function to make it easier.\n",
    "\n",
    "##First, we are extracting rows for top 3 states for each sector.\n",
    "##Then, we are removing those rows with revenue showing as unknown\n",
    "##Finally, we are changing the values in the revenue column, according to the above groups which act as bins\n",
    "##for the values in our df\n",
    "def Revenue_bins(sector_rows, Top3_states):\n",
    "    \"\"\"\n",
    "    sector_rows - refers to the df with rows only for a specific sector (It_all_rows for example)\n",
    "    Top3_states - top 3 states for the sector we want to check (Top3_states_IT for example)\n",
    "    \"\"\"\n",
    "\n",
    "    sector_rows = sector_rows[(sector_rows[\"Location-State\"].isin(Top3_states.index))]\n",
    "    sector_rows = sector_rows[sector_rows[\"Revenue\"] != \"Unknown / Non-Applicable\"]\n",
    "\n",
    "    sector_rows.loc[sector_rows[\"Revenue\"].isin(Below_100m), \"Revenue\"] = \"Below $100 Mil\"\n",
    "    sector_rows.loc[sector_rows[\"Revenue\"].isin(Between_100m_1B), \"Revenue\"] = \"Between $100 Mil - $1B\"\n",
    "    sector_rows.loc[sector_rows[\"Revenue\"].isin(Above_1B), \"Revenue\"] = \"Above $1B\"\n",
    "\n",
    "    return sector_rows"
   ]
  },
  {
   "cell_type": "code",
   "execution_count": 184,
   "metadata": {},
   "outputs": [
    {
     "data": {
      "text/plain": [
       "array(['Between $100 Mil - $1B', 'Above $1B', 'Below $100 Mil'],\n",
       "      dtype=object)"
      ]
     },
     "execution_count": 184,
     "metadata": {},
     "output_type": "execute_result"
    }
   ],
   "source": [
    "##Using the function\n",
    "Rev_bin_IT = Revenue_bins(IT_all_rows, Top3_states_IT)\n",
    "\n",
    "Rev_bin_BP = Revenue_bins(BP_all_rows, Top3_states_BP)\n",
    "\n",
    "Rev_bin_Insurance = Revenue_bins(Insurance_all_rows, Top3_states_Insurance)\n",
    "\n",
    "##Making sure that the values are correct\n",
    "Rev_bin_IT[\"Revenue\"].unique()"
   ]
  },
  {
   "cell_type": "code",
   "execution_count": 185,
   "metadata": {},
   "outputs": [],
   "source": [
    "##Since the values were changed, it is now time to group the values by the revenue\n",
    "##For this, I am also using a function\n",
    "\n",
    "def Revenue_groups(Revenue_bin_sector):\n",
    "    \"\"\"\"\n",
    "    Revenue_bin_sector - df with the revenue values modified based on 3 bins (Rev_bin_IT for example) \n",
    "    \"\"\"\n",
    "    Temp = Revenue_bin_sector.groupby([\"Revenue\", \"Location-State\"]).agg(\n",
    "    Average_Yearly_Salary = pd.NamedAgg(column=\"Average Yearly Salary\", aggfunc=\"mean\"),\n",
    "    Job_offers = pd.NamedAgg(column=\"Location-State\", aggfunc=\"count\")).round(2).sort_index()\n",
    "    return Temp"
   ]
  },
  {
   "cell_type": "code",
   "execution_count": 186,
   "metadata": {},
   "outputs": [],
   "source": [
    "##Using the function \n",
    "Revenue_IT = Revenue_groups(Rev_bin_IT)\n",
    "Revenue_BP = Revenue_groups(Rev_bin_BP)\n",
    "Revenue_Insurance = Revenue_groups(Rev_bin_Insurance)"
   ]
  },
  {
   "cell_type": "code",
   "execution_count": 187,
   "metadata": {},
   "outputs": [
    {
     "data": {
      "text/html": [
       "<div>\n",
       "<style scoped>\n",
       "    .dataframe tbody tr th:only-of-type {\n",
       "        vertical-align: middle;\n",
       "    }\n",
       "\n",
       "    .dataframe tbody tr th {\n",
       "        vertical-align: top;\n",
       "    }\n",
       "\n",
       "    .dataframe thead th {\n",
       "        text-align: right;\n",
       "    }\n",
       "</style>\n",
       "<table border=\"1\" class=\"dataframe\">\n",
       "  <thead>\n",
       "    <tr style=\"text-align: right;\">\n",
       "      <th></th>\n",
       "      <th></th>\n",
       "      <th>Average_Yearly_Salary</th>\n",
       "      <th>Job_offers</th>\n",
       "    </tr>\n",
       "    <tr>\n",
       "      <th>Revenue</th>\n",
       "      <th>Location-State</th>\n",
       "      <th></th>\n",
       "      <th></th>\n",
       "    </tr>\n",
       "  </thead>\n",
       "  <tbody>\n",
       "    <tr>\n",
       "      <th rowspan=\"3\" valign=\"top\">Above $1B</th>\n",
       "      <th>CA</th>\n",
       "      <td>128214.29</td>\n",
       "      <td>14</td>\n",
       "    </tr>\n",
       "    <tr>\n",
       "      <th>NY</th>\n",
       "      <td>147000.00</td>\n",
       "      <td>1</td>\n",
       "    </tr>\n",
       "    <tr>\n",
       "      <th>WA</th>\n",
       "      <td>184500.00</td>\n",
       "      <td>2</td>\n",
       "    </tr>\n",
       "    <tr>\n",
       "      <th rowspan=\"3\" valign=\"top\">Below $100 Mil</th>\n",
       "      <th>CA</th>\n",
       "      <td>144725.00</td>\n",
       "      <td>20</td>\n",
       "    </tr>\n",
       "    <tr>\n",
       "      <th>NY</th>\n",
       "      <td>47000.00</td>\n",
       "      <td>2</td>\n",
       "    </tr>\n",
       "    <tr>\n",
       "      <th>WA</th>\n",
       "      <td>89000.00</td>\n",
       "      <td>1</td>\n",
       "    </tr>\n",
       "    <tr>\n",
       "      <th rowspan=\"2\" valign=\"top\">Between $100 Mil - $1B</th>\n",
       "      <th>CA</th>\n",
       "      <td>129500.00</td>\n",
       "      <td>5</td>\n",
       "    </tr>\n",
       "    <tr>\n",
       "      <th>NY</th>\n",
       "      <td>122500.00</td>\n",
       "      <td>4</td>\n",
       "    </tr>\n",
       "  </tbody>\n",
       "</table>\n",
       "</div>"
      ],
      "text/plain": [
       "                                       Average_Yearly_Salary  Job_offers\n",
       "Revenue                Location-State                                   \n",
       "Above $1B              CA                          128214.29          14\n",
       "                       NY                          147000.00           1\n",
       "                       WA                          184500.00           2\n",
       "Below $100 Mil         CA                          144725.00          20\n",
       "                       NY                           47000.00           2\n",
       "                       WA                           89000.00           1\n",
       "Between $100 Mil - $1B CA                          129500.00           5\n",
       "                       NY                          122500.00           4"
      ]
     },
     "execution_count": 187,
     "metadata": {},
     "output_type": "execute_result"
    }
   ],
   "source": [
    "Revenue_IT"
   ]
  },
  {
   "cell_type": "code",
   "execution_count": 188,
   "metadata": {},
   "outputs": [
    {
     "data": {
      "text/html": [
       "<div>\n",
       "<style scoped>\n",
       "    .dataframe tbody tr th:only-of-type {\n",
       "        vertical-align: middle;\n",
       "    }\n",
       "\n",
       "    .dataframe tbody tr th {\n",
       "        vertical-align: top;\n",
       "    }\n",
       "\n",
       "    .dataframe thead th {\n",
       "        text-align: right;\n",
       "    }\n",
       "</style>\n",
       "<table border=\"1\" class=\"dataframe\">\n",
       "  <thead>\n",
       "    <tr style=\"text-align: right;\">\n",
       "      <th></th>\n",
       "      <th></th>\n",
       "      <th>Average_Yearly_Salary</th>\n",
       "      <th>Job_offers</th>\n",
       "    </tr>\n",
       "    <tr>\n",
       "      <th>Revenue</th>\n",
       "      <th>Location-State</th>\n",
       "      <th></th>\n",
       "      <th></th>\n",
       "    </tr>\n",
       "  </thead>\n",
       "  <tbody>\n",
       "    <tr>\n",
       "      <th rowspan=\"3\" valign=\"top\">Above $1B</th>\n",
       "      <th>CA</th>\n",
       "      <td>153785.71</td>\n",
       "      <td>7</td>\n",
       "    </tr>\n",
       "    <tr>\n",
       "      <th>MA</th>\n",
       "      <td>122451.61</td>\n",
       "      <td>31</td>\n",
       "    </tr>\n",
       "    <tr>\n",
       "      <th>NY</th>\n",
       "      <td>149200.00</td>\n",
       "      <td>5</td>\n",
       "    </tr>\n",
       "    <tr>\n",
       "      <th rowspan=\"2\" valign=\"top\">Below $100 Mil</th>\n",
       "      <th>CA</th>\n",
       "      <td>91000.00</td>\n",
       "      <td>6</td>\n",
       "    </tr>\n",
       "    <tr>\n",
       "      <th>MA</th>\n",
       "      <td>107500.00</td>\n",
       "      <td>6</td>\n",
       "    </tr>\n",
       "    <tr>\n",
       "      <th rowspan=\"2\" valign=\"top\">Between $100 Mil - $1B</th>\n",
       "      <th>CA</th>\n",
       "      <td>171000.00</td>\n",
       "      <td>2</td>\n",
       "    </tr>\n",
       "    <tr>\n",
       "      <th>MA</th>\n",
       "      <td>105500.00</td>\n",
       "      <td>5</td>\n",
       "    </tr>\n",
       "  </tbody>\n",
       "</table>\n",
       "</div>"
      ],
      "text/plain": [
       "                                       Average_Yearly_Salary  Job_offers\n",
       "Revenue                Location-State                                   \n",
       "Above $1B              CA                          153785.71           7\n",
       "                       MA                          122451.61          31\n",
       "                       NY                          149200.00           5\n",
       "Below $100 Mil         CA                           91000.00           6\n",
       "                       MA                          107500.00           6\n",
       "Between $100 Mil - $1B CA                          171000.00           2\n",
       "                       MA                          105500.00           5"
      ]
     },
     "execution_count": 188,
     "metadata": {},
     "output_type": "execute_result"
    }
   ],
   "source": [
    "Revenue_BP"
   ]
  },
  {
   "cell_type": "code",
   "execution_count": 189,
   "metadata": {},
   "outputs": [
    {
     "data": {
      "text/html": [
       "<div>\n",
       "<style scoped>\n",
       "    .dataframe tbody tr th:only-of-type {\n",
       "        vertical-align: middle;\n",
       "    }\n",
       "\n",
       "    .dataframe tbody tr th {\n",
       "        vertical-align: top;\n",
       "    }\n",
       "\n",
       "    .dataframe thead th {\n",
       "        text-align: right;\n",
       "    }\n",
       "</style>\n",
       "<table border=\"1\" class=\"dataframe\">\n",
       "  <thead>\n",
       "    <tr style=\"text-align: right;\">\n",
       "      <th></th>\n",
       "      <th></th>\n",
       "      <th>Average_Yearly_Salary</th>\n",
       "      <th>Job_offers</th>\n",
       "    </tr>\n",
       "    <tr>\n",
       "      <th>Revenue</th>\n",
       "      <th>Location-State</th>\n",
       "      <th></th>\n",
       "      <th></th>\n",
       "    </tr>\n",
       "  </thead>\n",
       "  <tbody>\n",
       "    <tr>\n",
       "      <th rowspan=\"3\" valign=\"top\">Above $1B</th>\n",
       "      <th>IL</th>\n",
       "      <td>201583.33</td>\n",
       "      <td>6</td>\n",
       "    </tr>\n",
       "    <tr>\n",
       "      <th>NC</th>\n",
       "      <td>102000.00</td>\n",
       "      <td>1</td>\n",
       "    </tr>\n",
       "    <tr>\n",
       "      <th>NY</th>\n",
       "      <td>132600.00</td>\n",
       "      <td>5</td>\n",
       "    </tr>\n",
       "    <tr>\n",
       "      <th>Between $100 Mil - $1B</th>\n",
       "      <th>NY</th>\n",
       "      <td>108250.00</td>\n",
       "      <td>2</td>\n",
       "    </tr>\n",
       "  </tbody>\n",
       "</table>\n",
       "</div>"
      ],
      "text/plain": [
       "                                       Average_Yearly_Salary  Job_offers\n",
       "Revenue                Location-State                                   \n",
       "Above $1B              IL                          201583.33           6\n",
       "                       NC                          102000.00           1\n",
       "                       NY                          132600.00           5\n",
       "Between $100 Mil - $1B NY                          108250.00           2"
      ]
     },
     "execution_count": 189,
     "metadata": {},
     "output_type": "execute_result"
    }
   ],
   "source": [
    "Revenue_Insurance"
   ]
  },
  {
   "attachments": {},
   "cell_type": "markdown",
   "metadata": {},
   "source": [
    "###### Extracting the revenue data for each state and sector, so that the revenue values are shown for each state separately rather than for all states at once - this will later be useful in visualizations"
   ]
  },
  {
   "cell_type": "code",
   "execution_count": 190,
   "metadata": {},
   "outputs": [],
   "source": [
    "##Once again creating a function to extract the revenue data for each state in each sector\n",
    "def Revenue_state(Revenue_sector, state):\n",
    "    \"\"\"\"\n",
    "    Revenue_sector - df with the rows grouped by the revenue groups (Revenue_IT for example)\n",
    "    state - each state from the Top 3 states for the sector we are checking (\"CA\" for example)\n",
    "            this needs to be a string\n",
    "    \"\"\"\n",
    "    Result = Revenue_sector.reset_index()[Revenue_sector.reset_index()[\"Location-State\"] == state]\n",
    "    return Result"
   ]
  },
  {
   "cell_type": "code",
   "execution_count": 191,
   "metadata": {},
   "outputs": [],
   "source": [
    "##Using function - IT\n",
    "rev_ca_it = Revenue_state(Revenue_IT, \"CA\")\n",
    "rev_ny_it = Revenue_state(Revenue_IT, \"NY\")\n",
    "rev_wa_it = Revenue_state(Revenue_IT, \"WA\")"
   ]
  },
  {
   "cell_type": "code",
   "execution_count": 192,
   "metadata": {},
   "outputs": [],
   "source": [
    "##Using function - BP\n",
    "rev_ca_bp = Revenue_state(Revenue_BP, \"CA\")\n",
    "rev_ma_bp = Revenue_state(Revenue_BP, \"MA\")\n",
    "rev_ny_bp = Revenue_state(Revenue_BP, \"NY\")"
   ]
  },
  {
   "cell_type": "code",
   "execution_count": 193,
   "metadata": {},
   "outputs": [],
   "source": [
    "##Using function - Insurance\n",
    "rev_il_in = Revenue_state( Revenue_Insurance, \"IL\")\n",
    "rev_nc_in = Revenue_state( Revenue_Insurance, \"NC\")\n",
    "rev_ny_in = Revenue_state( Revenue_Insurance, \"NY\")"
   ]
  },
  {
   "cell_type": "code",
   "execution_count": 194,
   "metadata": {},
   "outputs": [
    {
     "data": {
      "text/html": [
       "<div>\n",
       "<style scoped>\n",
       "    .dataframe tbody tr th:only-of-type {\n",
       "        vertical-align: middle;\n",
       "    }\n",
       "\n",
       "    .dataframe tbody tr th {\n",
       "        vertical-align: top;\n",
       "    }\n",
       "\n",
       "    .dataframe thead th {\n",
       "        text-align: right;\n",
       "    }\n",
       "</style>\n",
       "<table border=\"1\" class=\"dataframe\">\n",
       "  <thead>\n",
       "    <tr style=\"text-align: right;\">\n",
       "      <th></th>\n",
       "      <th>Revenue</th>\n",
       "      <th>Location-State</th>\n",
       "      <th>Average_Yearly_Salary</th>\n",
       "      <th>Job_offers</th>\n",
       "    </tr>\n",
       "  </thead>\n",
       "  <tbody>\n",
       "    <tr>\n",
       "      <th>2</th>\n",
       "      <td>Above $1B</td>\n",
       "      <td>NY</td>\n",
       "      <td>132600.0</td>\n",
       "      <td>5</td>\n",
       "    </tr>\n",
       "    <tr>\n",
       "      <th>3</th>\n",
       "      <td>Between $100 Mil - $1B</td>\n",
       "      <td>NY</td>\n",
       "      <td>108250.0</td>\n",
       "      <td>2</td>\n",
       "    </tr>\n",
       "  </tbody>\n",
       "</table>\n",
       "</div>"
      ],
      "text/plain": [
       "                  Revenue Location-State  Average_Yearly_Salary  Job_offers\n",
       "2               Above $1B             NY               132600.0           5\n",
       "3  Between $100 Mil - $1B             NY               108250.0           2"
      ]
     },
     "execution_count": 194,
     "metadata": {},
     "output_type": "execute_result"
    }
   ],
   "source": [
    "##checking if the function worked\n",
    "rev_ca_it\n",
    "rev_ma_bp\n",
    "rev_ny_in"
   ]
  },
  {
   "attachments": {},
   "cell_type": "markdown",
   "metadata": {},
   "source": [
    "### Visualizations"
   ]
  },
  {
   "attachments": {},
   "cell_type": "markdown",
   "metadata": {},
   "source": [
    "###### First I'm listing all variables containing values needed to create charts"
   ]
  },
  {
   "cell_type": "code",
   "execution_count": null,
   "metadata": {},
   "outputs": [],
   "source": [
    "##Top 3 sectors with >= 10 job offers and the overall average for all sectors with >= 10 job offers\n",
    "Top_3_10\n",
    "w_avg\n",
    "\n",
    "##Top 3 states for Top 3 sectors with the most number of job offers and average salary at least as high as \n",
    "##sector's average\n",
    "Top3_states_IT\n",
    "Top3_states_BP\n",
    "Top3_states_Insurance\n",
    "\n",
    "##Revenue impact on number of job offers and average salary in Top 3 states from Top 3 sectors\n",
    "rev_ca_it\n",
    "rev_ny_it\n",
    "rev_wa_it\n",
    "\n",
    "rev_ca_bp\n",
    "rev_ma_bp\n",
    "rev_ny_bp\n",
    "\n",
    "rev_il_in\n",
    "rev_nc_in\n",
    "rev_ny_in "
   ]
  },
  {
   "attachments": {},
   "cell_type": "markdown",
   "metadata": {},
   "source": [
    "##### Top 3 sectors and Top 3 states"
   ]
  },
  {
   "cell_type": "code",
   "execution_count": 204,
   "metadata": {},
   "outputs": [
    {
     "data": {
      "image/png": "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",
      "text/plain": [
       "<Figure size 1200x800 with 7 Axes>"
      ]
     },
     "metadata": {},
     "output_type": "display_data"
    },
    {
     "data": {
      "text/plain": [
       "''"
      ]
     },
     "execution_count": 204,
     "metadata": {},
     "output_type": "execute_result"
    }
   ],
   "source": [
    "##First, I am creating a figure to work on\n",
    "fig = plt.figure(figsize=[12,8])\n",
    "\n",
    "######IT#######\n",
    "\n",
    "##Then I'm creating a subplot showing Top 3 sectors and a line with average for all sectors\n",
    "ax_sectors = fig.add_subplot(2,3,(1,3))\n",
    "\n",
    "ax_sectors.bar(Top_3_10.index, Top_3_10[\"Average_Yearly_Salary\"], color=[\"#1874CD\", '#00CD66','#CD8500'])\n",
    "ax_sectors.tick_params(axis=\"x\", which=\"both\", bottom=False, labelbottom=False)\n",
    "ax_sectors.set_title(\"Top 3 Sectors with The Highest Average Salary (All states)\", fontdict={\"size\" : 25}, y=1.1)\n",
    "\n",
    "ax_sectors.axhline(w_avg,color='Firebrick', linestyle=\"--\", label=\"Average Salary for all Sectors (> 10 Job Offers)\")\n",
    "\n",
    "\n",
    "##Next, I'm plotting an average salary for IT for top 3 states\n",
    "ax_statesal_IT = fig.add_subplot(2,3,4)\n",
    "\n",
    "ax_statesal_IT.bar(Top3_states_IT.index, Top3_states_IT[\"Average_Yearly_Salary\"], color=\"#1874CD\", \n",
    "label=\"IT Average Salary\")\n",
    "\n",
    "##As well as number of Jobs for IT for top 3 states on a second axis\n",
    "ax_statejob_IT = ax_statesal_IT.twinx()\n",
    "ax_statejob_IT.bar(Top3_states_IT.index, Top3_states_IT[\"Job_offers\"], color='#6CA6CD', label=\"Number of Job Offers\")\n",
    "ax_statejob_IT.set_ylim(0,100)\n",
    "\n",
    "######BP#######\n",
    "\n",
    "##Then, average salary for BP for top 3 states\n",
    "ax_statesal_BP = fig.add_subplot(2,3,5)\n",
    "\n",
    "ax_statesal_BP.bar(Top3_states_BP.index, Top3_states_BP[\"Average_Yearly_Salary\"], color=\"#00CD66\", \n",
    "label=\"Biotech & Pharmaceuticals Average Salary\")\n",
    "ax_statesal_BP.set_title(\n",
    "    \"\"\"Top 3 States with The Highest Number of Job Offers and Highest Average Salary \n",
    "    Above The Average Salary For The Entire Sector (Top 3 Sectors)\"\"\",\n",
    "    fontdict={\"size\" : 20}, y=1.1)\n",
    "\n",
    "##And, number of jobs for BP for top 3 states\n",
    "ax_statejob_BP = ax_statesal_BP.twinx()\n",
    "ax_statejob_BP.bar(Top3_states_BP.index, Top3_states_BP[\"Job_offers\"], color='#90EE90', label=\"Number of Job Offers\")\n",
    "ax_statejob_BP.set_ylim(0,100)\n",
    "\n",
    "\n",
    "######Insurance#######\n",
    "\n",
    "##Next, average salary for Insurance for top 3 states\n",
    "ax_stateavg_Ins = fig.add_subplot(2,3,6)\n",
    "ax_stateavg_Ins.bar(Top3_states_Insurance.index, Top3_states_Insurance[\"Average_Yearly_Salary\"], color=\"#CD8500\",\n",
    "label=\"Insurance Average Salary\")\n",
    "\n",
    "##And, number of jobs for Insurance for top 3 states\n",
    "ax_statec_Ins = ax_stateavg_Ins.twinx()\n",
    "ax_statec_Ins.bar(Top3_states_Insurance.index, Top3_states_Insurance[\"Job_offers\"], color='#FFA54F', \n",
    "label=\"Number of Job Offers\")\n",
    "ax_statec_Ins.set_ylim(0,100)\n",
    "\n",
    "\n",
    "\n",
    "##Once I am done with the general plotting, I am cleaning the graphs and making them more visually appealing\n",
    "##Since, I would apply this code to all graphs, I created loops to make it easier\n",
    "\n",
    "##General things applicable for all graphs (grids, tick_params, ticklabels, etc.)\n",
    "for g in [ax_sectors, ax_statesal_IT, ax_statesal_BP, ax_stateavg_Ins]:\n",
    "    g.grid(axis=\"y\", which=\"major\",visible=True)\n",
    "    g.set_axisbelow(True)\n",
    "    g.minorticks_on()\n",
    "    g.tick_params(axis=\"x\", which=\"minor\", bottom=False)\n",
    "\n",
    "for g in [ax_statejob_IT, ax_statejob_BP, ax_statec_Ins]:\n",
    "    g.minorticks_on()\n",
    "    g.tick_params(axis=\"x\", which=\"minor\", bottom=False)\n",
    "\n",
    "\n",
    "for g in [ax_sectors, ax_statesal_IT, ax_statesal_BP, ax_stateavg_Ins]:\n",
    "    g.set_yticks(g.get_yticks()[0::2])\n",
    "    g.set_yticklabels([\"$\" + str(\"{:.0f}\".format(x)) for x in g.get_yticks()])\n",
    "\n",
    "\n",
    "##Once that is done, I am adding a final touch (tight_layout, legend)\n",
    "fig.tight_layout(pad=2)\n",
    "plt.figlegend(fontsize=10, ncols=3, frameon=False, loc=\"center\", bbox_to_anchor=(0.5, -0.05), handleheight=2)\n",
    "plt.show()\n",
    ";\n"
   ]
  },
  {
   "attachments": {},
   "cell_type": "markdown",
   "metadata": {},
   "source": [
    "##### Revenue impact on Top 3 states for Top 3 sectors"
   ]
  },
  {
   "cell_type": "code",
   "execution_count": 199,
   "metadata": {},
   "outputs": [],
   "source": [
    "##Since I'm going to create 3 different graphs containing the same information and having the same layout, I'm\n",
    "##creating a function, that would apply to all graphs\n",
    "\n",
    "##General things applicable for all graphs (grids, tick_params, ticklabels, etc.)\n",
    "def misc(ax_index0, ax_index1, ax_index2, twinax0, twinax1, twinax2):\n",
    "    for g in [ax_index0, ax_index1, ax_index2]:\n",
    "        g.grid(axis=\"x\", which=\"major\",visible=True)\n",
    "        g.set_axisbelow(True)\n",
    "        g.minorticks_on()\n",
    "        g.tick_params(axis=\"y\", which=\"minor\", left=False)\n",
    "\n",
    "    for g in [twinax0, twinax1, twinax2]:\n",
    "        g.minorticks_on()\n",
    "        g.tick_params(axis=\"y\", which=\"minor\", left=False)\n",
    "\n",
    "\n",
    "    for g in [ax_index0, ax_index1, ax_index2]:\n",
    "        g.set_xticks(g.get_xticks()[0::2])\n",
    "        g.set_xticklabels([\"$\" + str(\"{:.0f}\".format(x)) for x in g.get_xticks()])"
   ]
  },
  {
   "attachments": {},
   "cell_type": "markdown",
   "metadata": {},
   "source": [
    "##### Information Technology"
   ]
  },
  {
   "cell_type": "code",
   "execution_count": 208,
   "metadata": {},
   "outputs": [
    {
     "data": {
      "image/png": "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",
      "text/plain": [
       "<Figure size 700x900 with 6 Axes>"
      ]
     },
     "metadata": {},
     "output_type": "display_data"
    },
    {
     "data": {
      "text/plain": [
       "''"
      ]
     },
     "execution_count": 208,
     "metadata": {},
     "output_type": "execute_result"
    }
   ],
   "source": [
    "##First, I'm creating a subplot and determining the tight_layout padding, as having it later does not apply\n",
    "##correctly to the graph\n",
    "fig, ax = plt.subplots(3,1, figsize=(7,9))\n",
    "fig.tight_layout(pad=7)\n",
    "\n",
    "##Next, I am plotting a horizontal bar plot to show the revenue impact for CA\n",
    "ax[0].barh(rev_ca_it[\"Revenue\"], rev_ca_it[\"Average_Yearly_Salary\"], color=\"#1874CD\", label=\"IT Average Salary\")\n",
    "ax[0].set_title(\"CA\", fontsize=20, y=1.2)\n",
    "ax0_jobs = ax[0].twiny()\n",
    "ax0_jobs.barh(rev_ca_it[\"Revenue\"], rev_ca_it[\"Job_offers\"], color=\"#6CA6CD\", label=\"Number of Jobs\")\n",
    "ax0_jobs.set_xlim(0,25)\n",
    "\n",
    "##Then, I am plotting a horizontal bar plot to show the revenue impact for NY\n",
    "ax[1].barh(rev_ny_it[\"Revenue\"], rev_ny_it[\"Average_Yearly_Salary\"], color=\"#1874CD\")\n",
    "ax[1].set_title(\"NY\", fontsize=20, y=1.2)\n",
    "ax1_jobs = ax[1].twiny()\n",
    "ax1_jobs.barh(rev_ny_it[\"Revenue\"], rev_ny_it[\"Job_offers\"], color=\"#6CA6CD\")\n",
    "ax1_jobs.set_xlim(0,25)\n",
    "\n",
    "##Then, I am plotting a horizontal bar plot to show the revenue impact for WA\n",
    "ax[2].barh(rev_wa_it[\"Revenue\"], rev_wa_it[\"Average_Yearly_Salary\"], color=\"#1874CD\")\n",
    "ax[2].set_title(\"WA\", fontsize=20, y=1.2)\n",
    "ax2_jobs = ax[2].twiny()\n",
    "ax2_jobs.barh(rev_wa_it[\"Revenue\"], rev_wa_it[\"Job_offers\"], color=\"#6CA6CD\")\n",
    "ax2_jobs.set_xlim(0,25)\n",
    "\n",
    "##Once finished with plotting, I'm adding the function to clean the graphs\n",
    "misc(ax[0],ax[1],ax[2],ax0_jobs,ax1_jobs,ax2_jobs)\n",
    "\n",
    "##After doing that, cleaning the tick labels, because having a \"$\" in the Between $100Mil - $1B label\n",
    "##changes it to a cursive, hence the need to escape these characters\n",
    "ax[0].set_yticks(rev_ca_it[\"Revenue\"])\n",
    "ax[0].set_yticklabels(['Above $1B', 'Below $100 Mil', 'Between \\$100Mil - \\$1B'])\n",
    "\n",
    "ax[1].set_yticks(rev_ny_it[\"Revenue\"])\n",
    "ax[1].set_yticklabels(['Above $1B', 'Below $100 Mil', 'Between \\$100Mil - \\$1B'])\n",
    "\n",
    "##Finally, adding a title to the entire figure and adding a legend\n",
    "fig.supylabel(\"Revenue Impact on Average Salary and Number of Job Offers in Top 3 States From The Sector\", \n",
    "fontsize=13,x=-0.15)\n",
    "plt.figlegend(fontsize=10, ncols=3, frameon=False, loc=\"center\", bbox_to_anchor=(0.5, 0.02), handleheight=2)\n",
    "plt.show()\n",
    ";"
   ]
  },
  {
   "attachments": {},
   "cell_type": "markdown",
   "metadata": {},
   "source": [
    "##### Biotech & Pharmaceuticals"
   ]
  },
  {
   "cell_type": "code",
   "execution_count": 209,
   "metadata": {},
   "outputs": [
    {
     "data": {
      "image/png": "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",
      "text/plain": [
       "<Figure size 700x900 with 6 Axes>"
      ]
     },
     "metadata": {},
     "output_type": "display_data"
    },
    {
     "data": {
      "text/plain": [
       "''"
      ]
     },
     "execution_count": 209,
     "metadata": {},
     "output_type": "execute_result"
    }
   ],
   "source": [
    "##First, I'm creating a subplot and determining the tight_layout padding, as having it later does not apply\n",
    "##correctly to the graph\n",
    "fig, ax = plt.subplots(3,1, figsize=(7,9))\n",
    "fig.tight_layout(pad=7)\n",
    "\n",
    "##Next, I am plotting a horizontal bar plot to show the revenue impact for CA\n",
    "ax[0].barh(rev_ca_bp[\"Revenue\"], rev_ca_bp[\"Average_Yearly_Salary\"], color=\"#00CD66\", label=\"BP Average Salary\")\n",
    "ax[0].set_title(\"CA\", fontsize=20, y=1.2)\n",
    "ax0_jobs = ax[0].twiny()\n",
    "ax0_jobs.barh(rev_ca_bp[\"Revenue\"], rev_ca_bp[\"Job_offers\"], color=\"#90EE90\", label=\"Number of Jobs\")\n",
    "ax0_jobs.set_xlim(0,35)\n",
    "\n",
    "##Then, I am plotting a horizontal bar plot to show the revenue impact for MA\n",
    "ax[1].barh(rev_ma_bp[\"Revenue\"], rev_ma_bp[\"Average_Yearly_Salary\"], color=\"#00CD66\")\n",
    "ax[1].set_title(\"MA\", fontsize=20, y=1.2)\n",
    "ax1_jobs = ax[1].twiny()\n",
    "ax1_jobs.barh(rev_ma_bp[\"Revenue\"], rev_ma_bp[\"Job_offers\"], color=\"#90EE90\")\n",
    "ax1_jobs.set_xlim(0,35)\n",
    "\n",
    "##Then, I am plotting a horizontal bar plot to show the revenue impact for NY\n",
    "ax[2].barh(rev_ny_bp[\"Revenue\"], rev_ny_bp[\"Average_Yearly_Salary\"], color=\"#00CD66\")\n",
    "ax[2].set_title(\"NY\", fontsize=20, y=1.2)\n",
    "ax2_jobs = ax[2].twiny()\n",
    "ax2_jobs.barh(rev_ny_bp[\"Revenue\"], rev_ny_bp[\"Job_offers\"], color=\"#90EE90\")\n",
    "ax2_jobs.set_xlim(0,35)\n",
    "\n",
    "##Once finished with plotting, I'm adding the function to clean the graphs\n",
    "misc(ax[0],ax[1],ax[2],ax0_jobs,ax1_jobs,ax2_jobs)\n",
    "\n",
    "##After doing that, cleaning the tick labels, because having a \"$\" in the Between $100Mil - $1B label\n",
    "##changes it to a cursive, hence the need to escape these characters\n",
    "ax[0].set_yticks(rev_ca_bp[\"Revenue\"])\n",
    "ax[0].set_yticklabels(['Above $1B', 'Below $100 Mil', 'Between \\$100Mil - \\$1B'])\n",
    "\n",
    "ax[1].set_yticks(rev_ma_bp[\"Revenue\"])\n",
    "ax[1].set_yticklabels(['Above $1B', 'Below $100 Mil', 'Between \\$100Mil - \\$1B'])\n",
    "\n",
    "##Finally, adding a title to the entire figure and adding a legend\n",
    "fig.supylabel(\"Revenue Impact on Average Salary and Number of Job Offers in Top 3 States From The Sector\", \n",
    "fontsize=13,x=-0.15)\n",
    "plt.figlegend(fontsize=10, ncols=3, frameon=False, loc=\"center\", bbox_to_anchor=(0.5, 0.02), handleheight=2)\n",
    "plt.show()\n",
    ";"
   ]
  },
  {
   "attachments": {},
   "cell_type": "markdown",
   "metadata": {},
   "source": [
    "##### Insurance"
   ]
  },
  {
   "cell_type": "code",
   "execution_count": 202,
   "metadata": {},
   "outputs": [
    {
     "data": {
      "image/png": "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",
      "text/plain": [
       "<Figure size 700x900 with 6 Axes>"
      ]
     },
     "metadata": {},
     "output_type": "display_data"
    },
    {
     "data": {
      "text/plain": [
       "''"
      ]
     },
     "execution_count": 202,
     "metadata": {},
     "output_type": "execute_result"
    }
   ],
   "source": [
    "##First, I'm creating a subplot and determining the tight_layout padding, as having it later does not apply\n",
    "##correctly to the graph\n",
    "fig, ax = plt.subplots(3,1, figsize=(7,9))\n",
    "fig.tight_layout(pad=7)\n",
    "\n",
    "##Next, I am plotting a horizontal bar plot to show the revenue impact for IN\n",
    "ax[0].barh(rev_il_in[\"Revenue\"], rev_il_in[\"Average_Yearly_Salary\"], color=\"#CD8500\", label=\"BP Average Salary\")\n",
    "ax[0].set_title(\"IL\", fontsize=20, y=1.2)\n",
    "ax0_jobs = ax[0].twiny()\n",
    "ax0_jobs.barh(rev_il_in[\"Revenue\"], rev_il_in[\"Job_offers\"], color=\"#FFA54F\", label=\"Number of Jobs\")\n",
    "ax0_jobs.set_xlim(0,25)\n",
    "\n",
    "##Then, I am plotting a horizontal bar plot to show the revenue impact for NC\n",
    "ax[1].barh(rev_nc_in[\"Revenue\"], rev_nc_in[\"Average_Yearly_Salary\"], color=\"#CD8500\")\n",
    "ax[1].set_title(\"NC\", fontsize=20, y=1.2)\n",
    "ax1_jobs = ax[1].twiny()\n",
    "ax1_jobs.barh(rev_nc_in[\"Revenue\"], rev_nc_in[\"Job_offers\"], color=\"#FFA54F\")\n",
    "ax1_jobs.set_xlim(0,25)\n",
    "\n",
    "##Then, I am plotting a horizontal bar plot to show the revenue impact for NY\n",
    "ax[2].barh(rev_ny_in[\"Revenue\"], rev_ny_in[\"Average_Yearly_Salary\"], color=\"#CD8500\")\n",
    "ax[2].set_title(\"NY\", fontsize=20, y=1.2)\n",
    "ax2_jobs = ax[2].twiny()\n",
    "ax2_jobs.barh(rev_ny_in[\"Revenue\"], rev_ny_in[\"Job_offers\"], color=\"#FFA54F\")\n",
    "ax2_jobs.set_xlim(0,25)\n",
    "\n",
    "##Once finished with plotting, I'm adding the function to clean the graphs\n",
    "misc(ax[0],ax[1],ax[2],ax0_jobs,ax1_jobs,ax2_jobs)\n",
    "\n",
    "##After doing that, cleaning the tick labels, because having a \"$\" in the Between $100Mil - $1B label\n",
    "##changes it to a cursive, hence the need to escape these characters\n",
    "ax[2].set_yticks(rev_ny_in[\"Revenue\"])\n",
    "ax[2].set_yticklabels(['Above $1B', 'Between \\$100Mil - \\$1B'])\n",
    "\n",
    "##Finally, adding a title to the entire figure and adding a legend\n",
    "fig.supylabel(\"Revenue Impact on Average Salary and Number of Job Offers in Top 3 States From The Sector\", \n",
    "fontsize=13,x=-0.15)\n",
    "plt.figlegend(fontsize=10, ncols=3, frameon=False, loc=\"center\", bbox_to_anchor=(0.5, 0.02), handleheight=2)\n",
    "plt.show()\n",
    ";"
   ]
  }
 ],
 "metadata": {
  "kernelspec": {
   "display_name": "Python_-_ENG-cA47NeXI",
   "language": "python",
   "name": "python3"
  },
  "language_info": {
   "codemirror_mode": {
    "name": "ipython",
    "version": 3
   },
   "file_extension": ".py",
   "mimetype": "text/x-python",
   "name": "python",
   "nbconvert_exporter": "python",
   "pygments_lexer": "ipython3",
   "version": "3.10.5"
  },
  "orig_nbformat": 4,
  "vscode": {
   "interpreter": {
    "hash": "6070f216adc3c69a7bbdd44f141fde4a8e8e7999e6d19fc6cacc736432afff8d"
   }
  }
 },
 "nbformat": 4,
 "nbformat_minor": 2
}
